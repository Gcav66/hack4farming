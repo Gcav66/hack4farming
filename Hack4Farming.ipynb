{
 "metadata": {
  "name": "",
  "signature": "sha256:8a4b298739972e8361c8b7abae47d42b225db4086563340d79c8268dc0e5f69f"
 },
 "nbformat": 3,
 "nbformat_minor": 0,
 "worksheets": [
  {
   "cells": [
    {
     "cell_type": "markdown",
     "metadata": {},
     "source": [
      "#Data Cleaning 101\n",
      "If you want to **analyze** data you will likely have to **clean** it first"
     ]
    },
    {
     "cell_type": "markdown",
     "metadata": {},
     "source": [
      "###90%  of a data scientist's time is spent [cleaning data](http://www.nytimes.com/2014/08/18/technology/for-big-data-scientists-hurdle-to-insights-is-janitor-work.html)###\n",
      "\n",
      "Data comes in many different formats like:. <br>\n",
      "+ Excel spreadsheets\n",
      "+ CSV\n",
      "+ XML\n",
      "+ JSON \n",
      "+ SQL (stored in a relational database)\n",
      "+ NoSQL (stored in a column-oriented database)\n",
      "<br>\n",
      "\n",
      "Getting comfortable with data cleaning techniques will help <br>\n",
      "\n",
      "![](http://adcieo.com/wp-content/uploads/2015/02/cleansing.jpg)"
     ]
    },
    {
     "cell_type": "markdown",
     "metadata": {},
     "source": [
      "###Let's start with a data format you will know: CSV\n",
      "CSV stands for comma separated values.<br>\n",
      "We like CSV because it represents tabular data (rows and columns) <br>\n",
      "And because Excel can read it easily"
     ]
    },
    {
     "cell_type": "markdown",
     "metadata": {},
     "source": [
      "#Let's analyze some goats!\n",
      "![](http://advitamaeternam.org/wp-content/uploads/2014/11/Goat.jpg)"
     ]
    },
    {
     "cell_type": "markdown",
     "metadata": {},
     "source": [
      "We are going to use [**pandas**](http://pandas.pydata.org/pandas-docs/stable/basics.html) - a python library for analyzing tabular data <br>\n",
      "The **tools** do not matter at this point, just the **techniques**"
     ]
    },
    {
     "cell_type": "code",
     "collapsed": false,
     "input": [
      "import pandas as pd"
     ],
     "language": "python",
     "metadata": {},
     "outputs": [],
     "prompt_number": 1
    },
    {
     "cell_type": "markdown",
     "metadata": {},
     "source": [
      "Programming languages are powerful not just because of what you can create<br>\n",
      "But also because of what you can **steal** from others"
     ]
    },
    {
     "cell_type": "code",
     "collapsed": false,
     "input": [
      "goats = pd.read_csv(r'C:\\Users\\IBM_ADMIN\\Downloads\\an05_goat--ssa.csv_5\\AN05_GOAT--SSA.csv')\n",
      "# This is just like opening the file in Excel\n",
      "goats.head()\n",
      "# \"head\" just returns the first five lines"
     ],
     "language": "python",
     "metadata": {},
     "outputs": [
      {
       "html": [
        "<div style=\"max-height:1000px;max-width:1500px;overflow:auto;\">\n",
        "<table border=\"1\" class=\"dataframe\">\n",
        "  <thead>\n",
        "    <tr style=\"text-align: right;\">\n",
        "      <th></th>\n",
        "      <th>CELL5M</th>\n",
        "      <th>ISO3</th>\n",
        "      <th>ADM0_NAME</th>\n",
        "      <th>ADM1_NAME_ALT</th>\n",
        "      <th>ADM2_NAME_ALT</th>\n",
        "      <th>X</th>\n",
        "      <th>Y</th>\n",
        "      <th>AN05_GOAT</th>\n",
        "    </tr>\n",
        "  </thead>\n",
        "  <tbody>\n",
        "    <tr>\n",
        "      <th>0</th>\n",
        "      <td> 5065360</td>\n",
        "      <td> AGO</td>\n",
        "      <td> Angola</td>\n",
        "      <td> Bengo</td>\n",
        "      <td> Ambriz</td>\n",
        "      <td> 13.37500</td>\n",
        "      <td>-7.70833</td>\n",
        "      <td> 15</td>\n",
        "    </tr>\n",
        "    <tr>\n",
        "      <th>1</th>\n",
        "      <td> 5065363</td>\n",
        "      <td> AGO</td>\n",
        "      <td> Angola</td>\n",
        "      <td> Bengo</td>\n",
        "      <td> Ambriz</td>\n",
        "      <td> 13.62500</td>\n",
        "      <td>-7.70833</td>\n",
        "      <td>  0</td>\n",
        "    </tr>\n",
        "    <tr>\n",
        "      <th>2</th>\n",
        "      <td> 5065364</td>\n",
        "      <td> AGO</td>\n",
        "      <td> Angola</td>\n",
        "      <td> Bengo</td>\n",
        "      <td> Ambriz</td>\n",
        "      <td> 13.70833</td>\n",
        "      <td>-7.70833</td>\n",
        "      <td>  0</td>\n",
        "    </tr>\n",
        "    <tr>\n",
        "      <th>3</th>\n",
        "      <td> 5065365</td>\n",
        "      <td> AGO</td>\n",
        "      <td> Angola</td>\n",
        "      <td> Bengo</td>\n",
        "      <td> Ambriz</td>\n",
        "      <td> 13.79167</td>\n",
        "      <td>-7.70833</td>\n",
        "      <td> 24</td>\n",
        "    </tr>\n",
        "    <tr>\n",
        "      <th>4</th>\n",
        "      <td> 5069678</td>\n",
        "      <td> AGO</td>\n",
        "      <td> Angola</td>\n",
        "      <td> Bengo</td>\n",
        "      <td> Ambriz</td>\n",
        "      <td> 13.20833</td>\n",
        "      <td>-7.79167</td>\n",
        "      <td> 16</td>\n",
        "    </tr>\n",
        "  </tbody>\n",
        "</table>\n",
        "</div>"
       ],
       "metadata": {},
       "output_type": "pyout",
       "prompt_number": 25,
       "text": [
        "    CELL5M ISO3 ADM0_NAME ADM1_NAME_ALT ADM2_NAME_ALT         X        Y  \\\n",
        "0  5065360  AGO    Angola         Bengo        Ambriz  13.37500 -7.70833   \n",
        "1  5065363  AGO    Angola         Bengo        Ambriz  13.62500 -7.70833   \n",
        "2  5065364  AGO    Angola         Bengo        Ambriz  13.70833 -7.70833   \n",
        "3  5065365  AGO    Angola         Bengo        Ambriz  13.79167 -7.70833   \n",
        "4  5069678  AGO    Angola         Bengo        Ambriz  13.20833 -7.79167   \n",
        "\n",
        "   AN05_GOAT  \n",
        "0         15  \n",
        "1          0  \n",
        "2          0  \n",
        "3         24  \n",
        "4         16  "
       ]
      }
     ],
     "prompt_number": 25
    },
    {
     "cell_type": "code",
     "collapsed": false,
     "input": [
      "goats.describe()"
     ],
     "language": "python",
     "metadata": {},
     "outputs": [
      {
       "html": [
        "<div style=\"max-height:1000px;max-width:1500px;overflow:auto;\">\n",
        "<table border=\"1\" class=\"dataframe\">\n",
        "  <thead>\n",
        "    <tr style=\"text-align: right;\">\n",
        "      <th></th>\n",
        "      <th>CELL5M</th>\n",
        "      <th>X</th>\n",
        "      <th>Y</th>\n",
        "      <th>AN05_GOAT</th>\n",
        "    </tr>\n",
        "  </thead>\n",
        "  <tbody>\n",
        "    <tr>\n",
        "      <th>count</th>\n",
        "      <td>  303453.000000</td>\n",
        "      <td> 303453.000000</td>\n",
        "      <td> 303453.000000</td>\n",
        "      <td> 291891.000000</td>\n",
        "    </tr>\n",
        "    <tr>\n",
        "      <th>mean</th>\n",
        "      <td> 4615588.538644</td>\n",
        "      <td>     20.091981</td>\n",
        "      <td>      0.969369</td>\n",
        "      <td>    880.179074</td>\n",
        "    </tr>\n",
        "    <tr>\n",
        "      <th>std</th>\n",
        "      <td>  795293.944638</td>\n",
        "      <td>     16.096473</td>\n",
        "      <td>     15.339764</td>\n",
        "      <td>   2835.619698</td>\n",
        "    </tr>\n",
        "    <tr>\n",
        "      <th>min</th>\n",
        "      <td> 3229040.000000</td>\n",
        "      <td>    -25.458330</td>\n",
        "      <td>    -47.041670</td>\n",
        "      <td>      0.000000</td>\n",
        "    </tr>\n",
        "    <tr>\n",
        "      <th>25%</th>\n",
        "      <td> 3967998.000000</td>\n",
        "      <td>     11.625000</td>\n",
        "      <td>    -11.708330</td>\n",
        "      <td>      0.000000</td>\n",
        "    </tr>\n",
        "    <tr>\n",
        "      <th>50%</th>\n",
        "      <td> 4413040.000000</td>\n",
        "      <td>     22.125000</td>\n",
        "      <td>      4.875000</td>\n",
        "      <td>     95.000000</td>\n",
        "    </tr>\n",
        "    <tr>\n",
        "      <th>75%</th>\n",
        "      <td> 5273036.000000</td>\n",
        "      <td>     31.791670</td>\n",
        "      <td>     13.458330</td>\n",
        "      <td>    820.000000</td>\n",
        "    </tr>\n",
        "    <tr>\n",
        "      <th>max</th>\n",
        "      <td> 7104695.000000</td>\n",
        "      <td>     72.541670</td>\n",
        "      <td>     27.708330</td>\n",
        "      <td> 248678.000000</td>\n",
        "    </tr>\n",
        "  </tbody>\n",
        "</table>\n",
        "</div>"
       ],
       "metadata": {},
       "output_type": "pyout",
       "prompt_number": 26,
       "text": [
        "               CELL5M              X              Y      AN05_GOAT\n",
        "count   303453.000000  303453.000000  303453.000000  291891.000000\n",
        "mean   4615588.538644      20.091981       0.969369     880.179074\n",
        "std     795293.944638      16.096473      15.339764    2835.619698\n",
        "min    3229040.000000     -25.458330     -47.041670       0.000000\n",
        "25%    3967998.000000      11.625000     -11.708330       0.000000\n",
        "50%    4413040.000000      22.125000       4.875000      95.000000\n",
        "75%    5273036.000000      31.791670      13.458330     820.000000\n",
        "max    7104695.000000      72.541670      27.708330  248678.000000"
       ]
      }
     ],
     "prompt_number": 26
    },
    {
     "cell_type": "code",
     "collapsed": false,
     "input": [
      "goats[goats.AN05_GOAT == 0][0:7]"
     ],
     "language": "python",
     "metadata": {},
     "outputs": [
      {
       "html": [
        "<div style=\"max-height:1000px;max-width:1500px;overflow:auto;\">\n",
        "<table border=\"1\" class=\"dataframe\">\n",
        "  <thead>\n",
        "    <tr style=\"text-align: right;\">\n",
        "      <th></th>\n",
        "      <th>CELL5M</th>\n",
        "      <th>ISO3</th>\n",
        "      <th>ADM0_NAME</th>\n",
        "      <th>ADM1_NAME_ALT</th>\n",
        "      <th>ADM2_NAME_ALT</th>\n",
        "      <th>X</th>\n",
        "      <th>Y</th>\n",
        "      <th>AN05_GOAT</th>\n",
        "    </tr>\n",
        "  </thead>\n",
        "  <tbody>\n",
        "    <tr>\n",
        "      <th>1 </th>\n",
        "      <td> 5065363</td>\n",
        "      <td> AGO</td>\n",
        "      <td> Angola</td>\n",
        "      <td> Bengo</td>\n",
        "      <td> Ambriz</td>\n",
        "      <td> 13.62500</td>\n",
        "      <td>-7.70833</td>\n",
        "      <td> 0</td>\n",
        "    </tr>\n",
        "    <tr>\n",
        "      <th>2 </th>\n",
        "      <td> 5065364</td>\n",
        "      <td> AGO</td>\n",
        "      <td> Angola</td>\n",
        "      <td> Bengo</td>\n",
        "      <td> Ambriz</td>\n",
        "      <td> 13.70833</td>\n",
        "      <td>-7.70833</td>\n",
        "      <td> 0</td>\n",
        "    </tr>\n",
        "    <tr>\n",
        "      <th>8 </th>\n",
        "      <td> 5069682</td>\n",
        "      <td> AGO</td>\n",
        "      <td> Angola</td>\n",
        "      <td> Bengo</td>\n",
        "      <td> Ambriz</td>\n",
        "      <td> 13.54167</td>\n",
        "      <td>-7.79167</td>\n",
        "      <td> 0</td>\n",
        "    </tr>\n",
        "    <tr>\n",
        "      <th>9 </th>\n",
        "      <td> 5069683</td>\n",
        "      <td> AGO</td>\n",
        "      <td> Angola</td>\n",
        "      <td> Bengo</td>\n",
        "      <td> Ambriz</td>\n",
        "      <td> 13.62500</td>\n",
        "      <td>-7.79167</td>\n",
        "      <td> 0</td>\n",
        "    </tr>\n",
        "    <tr>\n",
        "      <th>10</th>\n",
        "      <td> 5069684</td>\n",
        "      <td> AGO</td>\n",
        "      <td> Angola</td>\n",
        "      <td> Bengo</td>\n",
        "      <td> Ambriz</td>\n",
        "      <td> 13.70833</td>\n",
        "      <td>-7.79167</td>\n",
        "      <td> 0</td>\n",
        "    </tr>\n",
        "    <tr>\n",
        "      <th>12</th>\n",
        "      <td> 5073997</td>\n",
        "      <td> AGO</td>\n",
        "      <td> Angola</td>\n",
        "      <td> Bengo</td>\n",
        "      <td> Ambriz</td>\n",
        "      <td> 13.12500</td>\n",
        "      <td>-7.87500</td>\n",
        "      <td> 0</td>\n",
        "    </tr>\n",
        "    <tr>\n",
        "      <th>13</th>\n",
        "      <td> 5073998</td>\n",
        "      <td> AGO</td>\n",
        "      <td> Angola</td>\n",
        "      <td> Bengo</td>\n",
        "      <td> Ambriz</td>\n",
        "      <td> 13.20833</td>\n",
        "      <td>-7.87500</td>\n",
        "      <td> 0</td>\n",
        "    </tr>\n",
        "  </tbody>\n",
        "</table>\n",
        "</div>"
       ],
       "metadata": {},
       "output_type": "pyout",
       "prompt_number": 27,
       "text": [
        "     CELL5M ISO3 ADM0_NAME ADM1_NAME_ALT ADM2_NAME_ALT         X        Y  \\\n",
        "1   5065363  AGO    Angola         Bengo        Ambriz  13.62500 -7.70833   \n",
        "2   5065364  AGO    Angola         Bengo        Ambriz  13.70833 -7.70833   \n",
        "8   5069682  AGO    Angola         Bengo        Ambriz  13.54167 -7.79167   \n",
        "9   5069683  AGO    Angola         Bengo        Ambriz  13.62500 -7.79167   \n",
        "10  5069684  AGO    Angola         Bengo        Ambriz  13.70833 -7.79167   \n",
        "12  5073997  AGO    Angola         Bengo        Ambriz  13.12500 -7.87500   \n",
        "13  5073998  AGO    Angola         Bengo        Ambriz  13.20833 -7.87500   \n",
        "\n",
        "    AN05_GOAT  \n",
        "1           0  \n",
        "2           0  \n",
        "8           0  \n",
        "9           0  \n",
        "10          0  \n",
        "12          0  \n",
        "13          0  "
       ]
      }
     ],
     "prompt_number": 27
    },
    {
     "cell_type": "code",
     "collapsed": false,
     "input": [
      "goats = goats[goats.AN05_GOAT > 0]"
     ],
     "language": "python",
     "metadata": {},
     "outputs": [],
     "prompt_number": 32
    },
    {
     "cell_type": "code",
     "collapsed": false,
     "input": [
      "goat_by_country = goats[['ADM0_NAME','AN05_GOAT']].groupby(['ADM0_NAME']).sum()\n",
      "df = goat_by_country.sort('AN05_GOAT')"
     ],
     "language": "python",
     "metadata": {},
     "outputs": [],
     "prompt_number": 36
    },
    {
     "cell_type": "code",
     "collapsed": false,
     "input": [
      "df.plot(kind='bar')"
     ],
     "language": "python",
     "metadata": {},
     "outputs": [
      {
       "metadata": {},
       "output_type": "pyout",
       "prompt_number": 34,
       "text": [
        "<matplotlib.axes._subplots.AxesSubplot at 0x11d74438>"
       ]
      },
      {
       "metadata": {},
       "output_type": "display_data",
       "png": "[encoded data removed]",
       "text": [
        "<matplotlib.figure.Figure at 0x11d740b8>"
       ]
      }
     ],
     "prompt_number": 34
    },
    {
     "cell_type": "code",
     "collapsed": false,
     "input": [
      "%%javascript\n",
      "require.config({\n",
      "    paths: {\n",
      "        d3: '//cdnjs.cloudflare.com/ajax/libs/d3/3.4.8/d3.min'\n",
      "    }\n",
      "});"
     ],
     "language": "python",
     "metadata": {},
     "outputs": [
      {
       "javascript": [
        "require.config({\n",
        "    paths: {\n",
        "        d3: '//cdnjs.cloudflare.com/ajax/libs/d3/3.4.8/d3.min'\n",
        "    }\n",
        "});"
       ],
       "metadata": {},
       "output_type": "display_data",
       "text": [
        "<IPython.core.display.Javascript at 0x12900898>"
       ]
      }
     ],
     "prompt_number": 38
    },
    {
     "cell_type": "code",
     "collapsed": false,
     "input": [
      "display(HTML(\"\"\"\n",
      "<style>\n",
      ".bar { \n",
      "  fill: steelblue;\n",
      "}\n",
      ".bar:hover {\n",
      " fill: brown;\n",
      "}\n",
      ".axis path,\n",
      ".axis line {\n",
      " fill: none;\n",
      " stroke: #000;\n",
      "}\n",
      " .x.axis path {\n",
      " display: none;\n",
      " }\n",
      " </style>\n",
      " <div id=\"chart_d3\"/>\n",
      " \"\"\"))"
     ],
     "language": "python",
     "metadata": {},
     "outputs": [
      {
       "ename": "NameError",
       "evalue": "name 'display' is not defined",
       "output_type": "pyerr",
       "traceback": [
        "\u001b[1;31m---------------------------------------------------------------------------\u001b[0m\n\u001b[1;31mNameError\u001b[0m                                 Traceback (most recent call last)",
        "\u001b[1;32m<ipython-input-39-d1e280ac862d>\u001b[0m in \u001b[0;36m<module>\u001b[1;34m()\u001b[0m\n\u001b[1;32m----> 1\u001b[1;33m display(HTML(\"\"\"\n\u001b[0m\u001b[0;32m      2\u001b[0m \u001b[1;33m<\u001b[0m\u001b[0mstyle\u001b[0m\u001b[1;33m>\u001b[0m\u001b[1;33m\u001b[0m\u001b[0m\n\u001b[0;32m      3\u001b[0m .bar { \n\u001b[0;32m      4\u001b[0m   \u001b[0mfill\u001b[0m\u001b[1;33m:\u001b[0m \u001b[0msteelblue\u001b[0m\u001b[1;33m;\u001b[0m\u001b[1;33m\u001b[0m\u001b[0m\n\u001b[0;32m      5\u001b[0m }\n",
        "\u001b[1;31mNameError\u001b[0m: name 'display' is not defined"
       ]
      }
     ],
     "prompt_number": 39
    },
    {
     "cell_type": "code",
     "collapsed": false,
     "input": [
      "%matplotlib inline\n",
      "import matplotlib.pyplot as plt\n",
      "plt.plot([1,2,3,4])\n",
      "plt.ylabel('some numbers')\n",
      "plt.show()"
     ],
     "language": "python",
     "metadata": {},
     "outputs": [
      {
       "metadata": {},
       "output_type": "display_data",
       "png": "[encoded data removed]",
       "text": [
        "<matplotlib.figure.Figure at 0xa97e438>"
       ]
      }
     ],
     "prompt_number": 9
    },
    {
     "cell_type": "code",
     "collapsed": false,
     "input": [
      "plt.plot([1,2,3,4], [1, 4, 9, 16], 'ro')\n",
      "plt.axis([0, 6, 0, 20])\n",
      "plt.ylabel('some numbers')\n",
      "plt.show()"
     ],
     "language": "python",
     "metadata": {},
     "outputs": [
      {
       "metadata": {},
       "output_type": "display_data",
       "png": "[encoded data removed]",
       "text": [
        "<matplotlib.figure.Figure at 0xaa19630>"
       ]
      }
     ],
     "prompt_number": 11
    },
    {
     "cell_type": "markdown",
     "metadata": {},
     "source": [
      "##But what if our data isn't in a nice CSV?##\n",
      "\n",
      "Sometimes data is on webpages <br>\n",
      "\n",
      "Like how Amazon lists prices of the greatest cereal ever, [Honey Bunches of Oats](http://www.amazon.com/s/ref=nb_sb_ss_i_3_5?url=search-alias%3Dgrocery&field-keywords=honey+bunches+of+oats&sprefix=Honey%2Caps%2C192&rh=n%3A16310101%2Ck%3Ahoney+bunches+of+oats)\n",
      "\n",
      "How do we get this data? <br>\n",
      "Enter **web-scraping**"
     ]
    },
    {
     "cell_type": "code",
     "collapsed": false,
     "input": [
      "import requests"
     ],
     "language": "python",
     "metadata": {},
     "outputs": [],
     "prompt_number": 4
    },
    {
     "cell_type": "markdown",
     "metadata": {},
     "source": [
      "####Requests is a python library that allows us to make HTTP requests####\n",
      "You already make HTTP requests all the time with your web-browser <br>\n",
      "\n",
      "Rather than Chrome or Safari, Python will get the webpage we want <br>\n",
      "\n",
      "This means we can use Python to analyze web pages easily"
     ]
    },
    {
     "cell_type": "code",
     "collapsed": false,
     "input": [
      "goat_page = requests.get(\"http://harvestchoice.org/commodities/goats\")"
     ],
     "language": "python",
     "metadata": {},
     "outputs": [],
     "prompt_number": 10
    },
    {
     "cell_type": "code",
     "collapsed": false,
     "input": [
      "goat_page.text"
     ],
     "language": "python",
     "metadata": {},
     "outputs": [
      {
       "metadata": {},
       "output_type": "pyout",
       "prompt_number": 11,
       "text": [
        "u'<!DOCTYPE html PUBLIC \"-//W3C//DTD XHTML 1.0 Transitional//EN\" \"http://www.w3.org/TR/xhtml1/DTD/xhtml1-transitional.dtd\">\\n<html xmlns=\"http://www.w3.org/1999/xhtml\" lang=\"en\" xml:lang=\"en\">\\n\\n<head>\\n<meta http-equiv=\"Content-Type\" content=\"text/html; charset=utf-8\" />\\n  <title>Goats | HarvestChoice</title>\\n  <meta http-equiv=\"Content-Type\" content=\"text/html; charset=utf-8\" />\\n<link rel=\"shortcut icon\" href=\"http://harvestchoice.org/sites/default/files/favicon.ico\" type=\"image/x-icon\" />\\n  \\n  <!-- Google Plus -->\\n  <link href=\"https://plus.google.com/104956520016249161825\" rel=\"publisher\" /> \\n   \\n  <link type=\"text/css\" rel=\"stylesheet\" media=\"all\" href=\"http://harvestchoice.org/sites/default/files/css/css_1c20d77fffcefc993781943223299792.css\" />\\n  <link type=\"text/css\" rel=\"stylesheet\" media=\"all\" href=\"/sites/all/themes/fusion/fusion_core/css/grid16-960.css\" />\\n  <!--[if IE 9]>\\n  <link type=\"text/css\" rel=\"stylesheet\" media=\"all\" href=\"/sites/all/themes/global/css/ie9-fixes.css\" />\\n  <![endif]-->\\n  <!--[if IE 8]>\\n  <link type=\"text/css\" rel=\"stylesheet\" media=\"all\" href=\"/sites/all/themes/fusion/fusion_core/css/ie8-fixes.css\" />\\n  <![endif]-->\\n  <!--[if IE 7]>\\n  <link type=\"text/css\" rel=\"stylesheet\" media=\"all\" href=\"/sites/all/themes/fusion/fusion_core/css/ie7-fixes.css\" />\\n<link type=\"text/css\" rel=\"stylesheet\" media=\"all\" href=\"/sites/all/themes/global/css/ie7-fixes.css\" />\\n  <![endif]-->\\n  <!--[if lte IE 6]>\\n  <link type=\"text/css\" rel=\"stylesheet\" media=\"all\" href=\"/sites/all/themes/fusion/fusion_core/css/ie6-fixes.css\" />\\n<link type=\"text/css\" rel=\"stylesheet\" media=\"all\" href=\"/sites/all/themes/global/css/ie6-fixes.css\" />\\n  <![endif]-->\\n    <link href=\\'http://fonts.googleapis.com/css?family=Droid+Serif|PT+Sans:300,400,500,700|Open+Sans:300,400,700,700italic&v2\\' rel=\\'stylesheet\\' type=\\'text/css\\'>\\n  <script type=\"text/javascript\" src=\"http://harvestchoice.org/sites/default/files/js/js_786d967bca3f536b64a970baef2a209b.js\"></script>\\n<script type=\"text/javascript\">\\n<!--//--><![CDATA[//><!--\\njQuery.extend(Drupal.settings, {\"basePath\":\"\\\\/\",\"automodal\":{\".automodal\":{\"autoFit\":true,\"draggable\":true,\"width\":600,\"height\":400,\"automodalClose\":true,\"automodalReload\":false}},\"jstools\":{\"cleanurls\":true,\"basePath\":\"\\\\/\"},\"collapsiblock\":{\"blocks\":{\"block-apachesolr_search-type\":\"2\",\"block-apachesolr_search-im_vid_1\":\"2\",\"block-apachesolr_search-im_vid_10\":\"2\",\"block-apachesolr_search-im_vid_2\":\"2\",\"block-cck_blocks-field_publication_date\":\"1\",\"block-cck_blocks-field_publication_year\":\"1\",\"block-views-data_detail-block_3\":\"1\",\"block-cck_blocks-field_publisher\":\"1\",\"block-views-map_detail-block_3\":\"1\",\"block-views-publication_detail-block_3\":\"1\",\"block-quicktabs-1\":\"1\",\"block-megamenu-0\":\"1\",\"block-quicktabs-2\":\"1\",\"block-menu-menu-footer-links\":\"1\",\"block-boxes-header_blog_links\":\"1\",\"block-quicktabs-3\":\"1\",\"block-views-tool_detail-block_3\":\"1\",\"block-menu_block-4\":\"1\",\"block-apachesolr_search-uid\":\"2\",\"block-apachesolr_search-im_vid_9\":\"3\",\"block-apachesolr_search-im_vid_6\":\"3\",\"block-apachesolr_search-im_vid_5\":\"3\",\"block-apachesolr_search-im_vid_15\":\"2\",\"block-boxes-contact_sidebar\":\"1\",\"block-apachesolr_search-field_authors\":\"1\",\"block-menu_block-1\":\"1\",\"block-apachesolr_search-im_vid_21\":\"2\",\"block-boxes-footer_links\":\"1\",\"block-boxes-footer_about_us\":\"1\",\"block-boxes-regions_map\":\"1\",\"block-boxes-homepage_products_navigation\":\"1\",\"block-apachesolr_search-im_vid_8\":\"2\",\"block-boxes-footer_blog_links\":\"1\",\"block-boxes-topics_lp_description\":\"1\",\"block-apachesolr_search-im_vid_12\":\"2\",\"block-views-publication_detail-block_2\":\"1\",\"block-views-map_detail-block_2\":\"1\",\"block-views-tool_detail-block_2\":\"1\",\"block-views-data_detail-block_2\":\"1\",\"block-views-blog_detail-block_2\":\"1\",\"block-views-5ff8878ec8f938b8aee2b7689db5597f\":\"1\",\"block-boxes-voice_about_block\":\"1\",\"block-boxes-footer_copyright\":\"1\",\"block-boxes-box_homepage_whatsnew\":\"1\",\"block-boxes-homepageneedfixing\":\"1\",\"block-boxes-blockspacer\":\"1\",\"block-views-9851f4037f919ae6a49023fe9f11b59d\":\"1\",\"block-views-topic_related_content-tools\":\"1\",\"block-views-tool_detail-block_1\":\"1\",\"block-views-blog_detail-block_1\":\"1\",\"block-block-3\":\"1\",\"block-views-94d0783087a5aac141b6c99757309e57\":\"1\",\"block-views-7bfeccce1b96abf4d9f6fd2328137260\":\"1\",\"block-boxes-footer_stay_updated\":\"1\",\"block-apachesolr_search-im_vid_24\":\"2\",\"block-block-4\":\"1\",\"block-boxes-box_timeline\":\"1\",\"block-boxes-data_filter_reset\":\"1\",\"block-apachesolr_search-im_vid_28\":\"2\",\"block-views-e016403e4043380780de1ccff00498dd\":\"1\",\"block-views-publication_detail-block_1\":\"1\",\"block-menu_block-3\":\"1\",\"block-quicktabs-4\":\"1\",\"block-views-user_content-block_1\":\"1\",\"block-views-data_detail-block_1\":\"1\",\"block-block-5\":\"1\",\"block-block-6\":\"1\",\"block-block-7\":\"1\",\"block-block-8\":\"1\"},\"default_state\":1,\"slide_type\":1,\"slide_speed\":200,\"block_title\":\":header:first\",\"block\":\"div.block\",\"block_content\":\"div.content\"},\"googleanalytics\":{\"trackOutbound\":1,\"trackMailto\":1,\"trackDownload\":1,\"trackDownloadExtensions\":\"7z|aac|arc|arj|asf|asx|avi|bin|csv|doc|exe|flv|gif|gz|gzip|hqx|jar|jpe?g|js|mp(2|3|4|e?g)|mov(ie)?|msi|msp|pdf|phps|png|ppt|qtm?|ra(m|r)?|sea|sit|tar|tgz|torrent|txt|wav|wma|wmv|wpd|xls|xml|z|zip\"},\"lightbox2\":{\"rtl\":0,\"file_path\":\"\\\\/(\\\\\\\\w\\\\\\\\w\\\\/)sites\\\\/default\\\\/files\",\"default_image\":\"\\\\/sites\\\\/all\\\\/modules\\\\/contrib\\\\/lightbox2\\\\/images\\\\/brokenimage.jpg\",\"border_size\":10,\"font_color\":\"000\",\"box_color\":\"fff\",\"top_position\":\"\",\"overlay_opacity\":\"0.8\",\"overlay_color\":\"000\",\"disable_close_click\":true,\"resize_sequence\":0,\"resize_speed\":400,\"fade_in_speed\":400,\"slide_down_speed\":600,\"use_alt_layout\":false,\"disable_resize\":false,\"disable_zoom\":false,\"force_show_nav\":false,\"show_caption\":true,\"loop_items\":false,\"node_link_text\":\"View Image Details\",\"node_link_target\":false,\"image_count\":\"Image !current of !total\",\"video_count\":\"Video !current of !total\",\"page_count\":\"Page !current of !total\",\"lite_press_x_close\":\"press \\\\u003ca href=\\\\\"#\\\\\" onclick=\\\\\"hideLightbox(); return FALSE;\\\\\"\\\\u003e\\\\u003ckbd\\\\u003ex\\\\u003c\\\\/kbd\\\\u003e\\\\u003c\\\\/a\\\\u003e to close\",\"download_link_text\":\"\",\"enable_login\":false,\"enable_contact\":false,\"keys_close\":\"c x 27\",\"keys_previous\":\"p 37\",\"keys_next\":\"n 39\",\"keys_zoom\":\"z\",\"keys_play_pause\":\"32\",\"display_image_size\":\"preview\",\"image_node_sizes\":\"()\",\"trigger_lightbox_classes\":\"\",\"trigger_lightbox_group_classes\":\"\",\"trigger_slideshow_classes\":\"\",\"trigger_lightframe_classes\":\"\",\"trigger_lightframe_group_classes\":\"\",\"custom_class_handler\":\"lightbox_ungrouped\",\"custom_trigger_classes\":\"img.hc-lightbox\",\"disable_for_gallery_lists\":1,\"disable_for_acidfree_gallery_lists\":true,\"enable_acidfree_videos\":true,\"slideshow_interval\":5000,\"slideshow_automatic_start\":true,\"slideshow_automatic_exit\":true,\"show_play_pause\":true,\"pause_on_next_click\":false,\"pause_on_previous_click\":true,\"loop_slides\":false,\"iframe_width\":600,\"iframe_height\":400,\"iframe_border\":1,\"enable_video\":false},\"views\":{\"ajax_path\":[\"\\\\/views\\\\/ajax\",\"\\\\/views\\\\/ajax\"],\"ajaxViews\":{\"views_dom_id:69c0e21e540b7925b984b366e0f9abcd\":{\"view_name\":\"commodity_related_content\",\"view_display_id\":\"latest\",\"view_args\":\"60\",\"view_path\":\"node\\\\/60\",\"view_base_path\":null,\"view_dom_id\":\"69c0e21e540b7925b984b366e0f9abcd\",\"pager_element\":0},\"views_dom_id:86883e688e8363d13627f051bda23055\":{\"view_name\":\"commodity_related_content\",\"view_display_id\":\"popular\",\"view_args\":\"60\",\"view_path\":\"node\\\\/60\",\"view_base_path\":null,\"view_dom_id\":\"86883e688e8363d13627f051bda23055\",\"pager_element\":0}}},\"quicktabs\":{\"qt_2\":{\"tabs\":[0,0]}}});\\n//--><!]]>\\n</script>\\n</head>\\n\\n<body id=\"pid-commodities-goats\" class=\"not-front not-logged-in page-node node-type-commodity no-sidebars full-node layout-main sidebars-split font-size-14 grid-type-960 grid-width-16\">\\n  <div id=\"page\" class=\"page\">\\n    <div id=\"page-inner\" class=\"page-inner\">\\n      <div id=\"skip\">\\n        <a href=\"#main-content-area\">Skip to Main Content Area</a>\\n      </div>\\n\\n      <!-- header-top row: width = grid_width -->\\n                \\n      \\n      <!-- header-group row: width = grid_width -->\\n      <div id=\"header-group-wrapper\" class=\"header-group-wrapper full-width\">\\n        <div id=\"header-group\" class=\"header-group row grid16-16\">\\n          <div id=\"header-group-inner\" class=\"header-group-inner inner clearfix\">\\n            <div>\\n              \\r\\n<div id=\"block-menu_block-2\" class=\"block block-menu_block odd first  grid16-0\">\\r\\n  <div class=\"inner clearfix\">\\r\\n            <div class=\"content clearfix\">\\r\\n      <div class=\"menu-block-2 menu-name-menu-blog-links parent-mlid-0 menu-level-1\">\\n  <ul class=\"menu\"><li class=\"leaf first menu-mlid-1062 has-children\"><a href=\"/about\" title=\"About\">About</a></li>\\n<li class=\"leaf last menu-mlid-3817\"><a href=\"/blog\">Blog</a></li>\\n</ul></div>\\n    </div>\\r\\n  </div><!-- /block-inner -->\\r\\n</div><!-- /block -->\\r\\n            <div id=\"search-box\" class=\"search-box block\">\\n<div id=\"search-box-inner\" class=\"search-box-inner inner clearfix\">\\n<form action=\"/commodities/goats\"  accept-charset=\"UTF-8\" method=\"post\" id=\"search-theme-form\">\\n<div>\\r\\n<div id=\"search\" class=\"container-inline\">\\r\\n  <input class=\"search-input form-text\" type=\"text\" maxlength=\"128\" name=\"search_theme_form\" id=\"edit-search-theme-form-header\"  size=\"15\" value=\"\" title=\"Enter search terms\" />\\r\\n  <input id=\"search_header\" class=\"search_submit\" type=\"submit\" name=\"op\" value=\"Search\"  />\\r\\n  <input type=\"hidden\" name=\"form_build_id\" id=\"form-d9IAeiMLeuUta2ouAv2gvx5iMWwcw17Wn1tI9-zmuwo\" value=\"form-d9IAeiMLeuUta2ouAv2gvx5iMWwcw17Wn1tI9-zmuwo\"  />\\n<input type=\"hidden\" name=\"form_id\" id=\"edit-search-theme-form\" value=\"search_theme_form\"  />\\n</div><!-- /search -->\\r\\n\\n</div></form>\\n</div><!-- /search-box-inner -->\\n</div><!-- /search-box -->\\n            </div>\\n                        <div id=\"header-site-info\" class=\"header-site-info block\">\\n              <div id=\"header-site-info-inner\" class=\"header-site-info-inner inner\">\\n                \\n                              </div><!-- /header-site-info-inner -->\\n            </div><!-- /header-site-info -->\\n            \\n                      </div><!-- /header-group-inner -->\\n        </div><!-- /header-group -->\\n      </div><!-- /header-group-wrapper -->\\n      \\n      <div id=\"primary-navigation-wrapper\" class=\"full-width\">\\n                        <div id=\"logo\">\\n                  <a href=\"/\" title=\"Home\"><img src=\"http://harvestchoice.org/sites/default/files/global_logo.png\" alt=\"Home\" /></a>\\n                </div>\\n                        <div id=\"primary-navigation\" class=\"row grid16-16\">\\n          <div id=\"primary-navigation-inner\" class=\"clearfix\">\\n            <div id=\"primary-menu\" class=\"primary-menu\"><div id=\"primary-menu-inner\" class=\"primary-menu-inner clearfix\">  \\r\\n<div id=\"block-megamenu-0\" class=\"block block-megamenu odd   grid16-0\">\\r\\n  <div class=\"inner clearfix\">\\r\\n            <div class=\"content clearfix\">\\r\\n      <ul id=\"megamenu-primary-links\" class=\"megamenu-menu horizontal megamenu-skin-minimal\"><li id=\"megamenu-mlid-373\" class=\"megamenu-parent megamenu-parent-0 odd half-1 leaf-0 first first\"><h2 class=\"megamenu-parent-title\"><a href=\"/topics\" class=\" menu-373\">Topics</a></h2><ul class=\"megamenu-bin megamenu-slots-columnar\"><li id=\"megamenu-mlid-1052\" class=\"megamenu-slot megamenu-slot-0 odd half-1 leaf-0 first first\"><h3 class=\"megamenu-slot-title nolink\">Agroecology</h3><ul class=\"megamenu-items \"><li id=\"megamenu-mlid-994\" class=\"megamenu-item megamenu-item-0 odd half-1 leaf-0 first first\"><a href=\"/topics/weather-and-climate\" class=\" menu-994\">Weather and Climate</a></li>\\n<li id=\"megamenu-mlid-2498\" class=\"megamenu-item megamenu-item-1 even half-1 leaf-1\"><a href=\"/topics/soil-resources\" class=\" menu-2498\">Soil Resources</a></li>\\n<li id=\"megamenu-mlid-993\" class=\"megamenu-item megamenu-item-2 odd half-2 leaf-2\"><a href=\"/topics/land-cover-and-use\" class=\" menu-993\">Land Cover and Use</a></li>\\n<li id=\"megamenu-mlid-2497\" class=\"megamenu-item megamenu-item-3 even half-2 leaf-3 last last\"><a href=\"/topics/agroecological-domains\" class=\" menu-2497\">Agroecological Domains</a></li>\\n</ul></li>\\n<li id=\"megamenu-mlid-1049\" class=\"megamenu-slot megamenu-slot-1 even half-1 leaf-1\"><h3 class=\"megamenu-slot-title nolink\">Demographics</h3><ul class=\"megamenu-items \"><li id=\"megamenu-mlid-376\" class=\"megamenu-item megamenu-item-0 odd half-1 leaf-0 first first\"><a href=\"/topics/population\" class=\" menu-376\">Population</a></li>\\n<li id=\"megamenu-mlid-375\" class=\"megamenu-item megamenu-item-1 even half-1 leaf-1\"><a href=\"/topics/income-and-poverty\" class=\" menu-375\">Income and Poverty</a></li>\\n<li id=\"megamenu-mlid-992\" class=\"megamenu-item megamenu-item-2 odd half-2 leaf-2\"><a href=\"/topics/households\" class=\" menu-992\">Households</a></li>\\n<li id=\"megamenu-mlid-981\" class=\"megamenu-item megamenu-item-3 even half-2 leaf-3 last last\"><a href=\"/topics/consumption-and-nutrition\" class=\" menu-981\">Consumption and Nutrition</a></li>\\n</ul></li>\\n<li id=\"megamenu-mlid-1050\" class=\"megamenu-slot megamenu-slot-2 odd half-1 leaf-2\"><h3 class=\"megamenu-slot-title nolink\">Farming</h3><ul class=\"megamenu-items \"><li id=\"megamenu-mlid-2499\" class=\"megamenu-item megamenu-item-0 odd half-1 leaf-0 first first\"><a href=\"/topics/farm-characteristics\" class=\" menu-2499\">Farm Characteristics</a></li>\\n<li id=\"megamenu-mlid-987\" class=\"megamenu-item megamenu-item-1 even half-1 leaf-1\"><a href=\"/topics/soil-and-water-stresses\" class=\" menu-987\">Soil and Water Stresses</a></li>\\n<li id=\"megamenu-mlid-988\" class=\"megamenu-item megamenu-item-2 odd half-1 leaf-2\"><a href=\"/topics/pests-and-diseases\" class=\" menu-988\">Pests and Diseases</a></li>\\n<li id=\"megamenu-mlid-996\" class=\"megamenu-item megamenu-item-3 even half-2 leaf-3\"><a href=\"/topics/input-use\" class=\" menu-996\">Input use</a></li>\\n<li id=\"megamenu-mlid-986\" class=\"megamenu-item megamenu-item-4 odd half-2 leaf-4 last last\"><a href=\"/topics/production\" class=\" menu-986\">Production</a></li>\\n</ul></li>\\n<li id=\"megamenu-mlid-1054\" class=\"megamenu-slot megamenu-slot-3 even half-2 leaf-3\"><h3 class=\"megamenu-slot-title nolink\">Productivity</h3><ul class=\"megamenu-items \"><li id=\"megamenu-mlid-377\" class=\"megamenu-item megamenu-item-0 odd half-1 leaf-0 first first\"><a href=\"/topics/productivity-measures\" class=\" menu-377\">Productivity Measures</a></li>\\n<li id=\"megamenu-mlid-983\" class=\"megamenu-item megamenu-item-1 even half-1 leaf-1\"><a href=\"/topics/yield-analysis\" class=\" menu-983\">Yield Analysis</a></li>\\n<li id=\"megamenu-mlid-995\" class=\"megamenu-item megamenu-item-2 odd half-2 leaf-2\"><a href=\"/topics/technology-evaluation\" class=\" menu-995\">Technology Evaluation</a></li>\\n<li id=\"megamenu-mlid-2500\" class=\"megamenu-item megamenu-item-3 even half-2 leaf-3 last last\"><a href=\"/topics/spillovers\" class=\" menu-2500\">Spillovers</a></li>\\n</ul></li>\\n<li id=\"megamenu-mlid-1051\" class=\"megamenu-slot megamenu-slot-4 odd half-2 leaf-4\"><h3 class=\"megamenu-slot-title nolink\">Markets</h3><ul class=\"megamenu-items \"><li id=\"megamenu-mlid-997\" class=\"megamenu-item megamenu-item-0 odd half-1 leaf-0 first first\"><a href=\"/topics/infrastructure-and-transportation\" class=\" menu-997\">Infrastructure and Transportation</a></li>\\n<li id=\"megamenu-mlid-989\" class=\"megamenu-item megamenu-item-1 even half-1 leaf-1\"><a href=\"/topics/market-access\" class=\" menu-989\">Market Access</a></li>\\n<li id=\"megamenu-mlid-991\" class=\"megamenu-item megamenu-item-2 odd half-2 leaf-2 last last\"><a href=\"/topics/prices\" class=\" menu-991\">Prices</a></li>\\n</ul></li>\\n<li id=\"megamenu-mlid-1053\" class=\"megamenu-slot megamenu-slot-5 even half-2 leaf-5 last last\"><h3 class=\"megamenu-slot-title nolink\">Special Topics</h3><ul class=\"megamenu-items \"><li id=\"megamenu-mlid-2501\" class=\"megamenu-item megamenu-item-0 odd half-1 leaf-0 first first\"><a href=\"/topics/targetingpriority-setting\" class=\" menu-2501\">Targeting/Priority Setting</a></li>\\n<li id=\"megamenu-mlid-998\" class=\"megamenu-item megamenu-item-1 even half-1 leaf-1\"><a href=\"/topics/risk\" class=\" menu-998\">Risk</a></li>\\n<li id=\"megamenu-mlid-2502\" class=\"megamenu-item megamenu-item-2 odd half-2 leaf-2\"><a href=\"/topics/research-policy\" class=\" menu-2502\">Research Policy</a></li>\\n<li id=\"megamenu-mlid-2503\" class=\"megamenu-item megamenu-item-3 even half-2 leaf-3 last last\"><a href=\"/topics/surveycensus-archive\" class=\" menu-2503\">Survey/Census Archive</a></li>\\n</ul></li>\\n</ul></li>\\n<li id=\"megamenu-mlid-3197\" class=\"megamenu-parent megamenu-parent-1 even half-1 leaf-1\"><h2 class=\"megamenu-parent-title\"><a href=\"/nolink/3197\" class=\" menu-3197\">Regions</a></h2><ul class=\"megamenu-bin megamenu-slots-columnar\"><li id=\"megamenu-mlid-3198\" class=\"megamenu-slot megamenu-slot-0 odd half-1 leaf-0 first first\"><h3 class=\"megamenu-slot-title nolink\">Geographic Groups</h3><ul class=\"megamenu-items \"><li id=\"megamenu-mlid-3147\" class=\"megamenu-item megamenu-item-0 odd half-1 leaf-0 first first\"><a href=\"/regions/East%20%2526%20Central%20Africa\" class=\" menu-3147\">East &amp; Central Africa</a></li>\\n<li id=\"megamenu-mlid-3146\" class=\"megamenu-item megamenu-item-1 even half-1 leaf-1\"><a href=\"/regions/Southern%20Africa\" class=\" menu-3146\">Southern Africa</a></li>\\n<li id=\"megamenu-mlid-3145\" class=\"megamenu-item megamenu-item-2 odd half-2 leaf-2 last last\"><a href=\"/regions/West%20Africa\" class=\" menu-3145\">West Africa</a></li>\\n</ul></li>\\n<li id=\"megamenu-mlid-3199\" class=\"megamenu-slot megamenu-slot-1 even half-1 leaf-1\"><h3 class=\"megamenu-slot-title nolink\">Regional Entities</h3><ul class=\"megamenu-items \"><li id=\"megamenu-mlid-3141\" class=\"megamenu-item megamenu-item-0 odd half-1 leaf-0 first first\"><a href=\"/regions/ASARECA\" class=\" menu-3141\">ASARECA</a></li>\\n<li id=\"megamenu-mlid-3155\" class=\"megamenu-item megamenu-item-1 even half-1 leaf-1\"><a href=\"/regions/COMESA\" class=\" menu-3155\">COMESA</a></li>\\n<li id=\"megamenu-mlid-3139\" class=\"megamenu-item megamenu-item-2 odd half-1 leaf-2\"><a href=\"/regions/CORAF\" class=\" menu-3139\">CORAF/WECARD</a></li>\\n<li id=\"megamenu-mlid-3138\" class=\"megamenu-item megamenu-item-3 even half-2 leaf-3\"><a href=\"/regions/ECOWAS\" class=\" menu-3138\">ECOWAS</a></li>\\n<li id=\"megamenu-mlid-3156\" class=\"megamenu-item megamenu-item-4 odd half-2 leaf-4 last last\"><a href=\"/regions/SADC\" class=\" menu-3156\">SADC</a></li>\\n</ul></li>\\n<li id=\"megamenu-mlid-3200\" class=\"megamenu-slot megamenu-slot-2 odd half-2 leaf-2\"><h3 class=\"megamenu-slot-title nolink\">Income Regions</h3><ul class=\"megamenu-items \"><li id=\"megamenu-mlid-3143\" class=\"megamenu-item megamenu-item-0 odd half-1 leaf-0 first first\"><a href=\"/regions/Low%20Income\" class=\" menu-3143\">Low Income</a></li>\\n<li id=\"megamenu-mlid-3148\" class=\"megamenu-item megamenu-item-1 even half-1 leaf-1\"><a href=\"/regions/Lower%20Middle%20Income\" class=\" menu-3148\">Lower Middle Income</a></li>\\n<li id=\"megamenu-mlid-3149\" class=\"megamenu-item megamenu-item-2 odd half-2 leaf-2\"><a href=\"/regions/Upper%20Middle%20Income\" class=\" menu-3149\">Upper Middle Income</a></li>\\n<li id=\"megamenu-mlid-3150\" class=\"megamenu-item megamenu-item-3 even half-2 leaf-3 last last\"><a href=\"/regions/High%20Income\" class=\" menu-3150\">High Income</a></li>\\n</ul></li>\\n<li id=\"megamenu-mlid-3201\" class=\"megamenu-slot megamenu-slot-3 even half-2 leaf-3 last last\"><h3 class=\"megamenu-slot-title nolink\">Donor Priority Countries</h3><ul class=\"megamenu-items \"><li id=\"megamenu-mlid-3276\" class=\"megamenu-item megamenu-item-0 odd half-1 leaf-0 first first\"><a href=\"/regions/agra-0\" class=\" menu-3276\">AGRA</a></li>\\n<li id=\"megamenu-mlid-3236\" class=\"megamenu-item megamenu-item-1 even half-1 leaf-1\"><a href=\"/regions/AGRA%20%28P1%29\" class=\" menu-3236\">AGRA (P1)</a></li>\\n<li id=\"megamenu-mlid-3140\" class=\"megamenu-item megamenu-item-2 odd half-1 leaf-2\"><a href=\"/regions/AGRA%20%28P2%29\" class=\" menu-3140\">AGRA (P2)</a></li>\\n<li id=\"megamenu-mlid-3154\" class=\"megamenu-item megamenu-item-3 even half-2 leaf-3\"><a href=\"/regions/Bill%20and%20Melinda%20Gates%20Foundation\" class=\" menu-3154\">Bill and Melinda Gates Foundation</a></li>\\n<li id=\"megamenu-mlid-3152\" class=\"megamenu-item megamenu-item-4 odd half-2 leaf-4\"><a href=\"/regions/CAADP\" class=\" menu-3152\">CAADP</a></li>\\n<li id=\"megamenu-mlid-3153\" class=\"megamenu-item megamenu-item-5 even half-2 leaf-5 last last\"><a href=\"/regions/USAID%20Feed%20the%20Future\" class=\" menu-3153\">USAID Feed the Future</a></li>\\n</ul></li>\\n</ul></li>\\n<li id=\"megamenu-mlid-499\" class=\"megamenu-parent megamenu-parent-2 odd half-2 leaf-2 last active active-trail last\"><h2 class=\"megamenu-parent-title\"><a href=\"/commodities\" class=\" active active-trail menu-499\">Commodities</a></h2><ul class=\"megamenu-bin megamenu-slots-columnar\"><li id=\"megamenu-mlid-3827\" class=\"megamenu-slot megamenu-slot-0 odd half-1 leaf-0 first first\"><h3 class=\"megamenu-slot-title nolink\">Cereals</h3><ul class=\"megamenu-items \"><li id=\"megamenu-mlid-628\" class=\"megamenu-item megamenu-item-0 odd half-1 leaf-0 first first\"><a href=\"/commodities/barley\" class=\" menu-628\">Barley</a></li>\\n<li id=\"megamenu-mlid-627\" class=\"megamenu-item megamenu-item-1 even half-1 leaf-1\"><a href=\"/commodities/maize\" class=\" menu-627\">Maize</a></li>\\n<li id=\"megamenu-mlid-630\" class=\"megamenu-item megamenu-item-2 odd half-1 leaf-2\"><a href=\"/commodities/millet\" class=\" menu-630\">Millet</a></li>\\n<li id=\"megamenu-mlid-629\" class=\"megamenu-item megamenu-item-3 even half-2 leaf-3\"><a href=\"/commodities/rice\" class=\" menu-629\">Rice</a></li>\\n<li id=\"megamenu-mlid-631\" class=\"megamenu-item megamenu-item-4 odd half-2 leaf-4\"><a href=\"/commodities/sorghum\" class=\" menu-631\">Sorghum</a></li>\\n<li id=\"megamenu-mlid-1021\" class=\"megamenu-item megamenu-item-5 even half-2 leaf-5 last last\"><a href=\"/commodities/wheat\" class=\" menu-1021\">Wheat</a></li>\\n</ul></li>\\n<li id=\"megamenu-mlid-3828\" class=\"megamenu-slot megamenu-slot-1 even half-1 leaf-1\"><h3 class=\"megamenu-slot-title nolink\">Roots and tubers</h3><ul class=\"megamenu-items \"><li id=\"megamenu-mlid-634\" class=\"megamenu-item megamenu-item-0 odd half-1 leaf-0 first first\"><a href=\"/commodities/cassava\" class=\" menu-634\">Cassava</a></li>\\n<li id=\"megamenu-mlid-632\" class=\"megamenu-item megamenu-item-1 even half-1 leaf-1\"><a href=\"/commodities/potato\" class=\" menu-632\">Potato</a></li>\\n<li id=\"megamenu-mlid-633\" class=\"megamenu-item megamenu-item-2 odd half-2 leaf-2 last last\"><a href=\"/commodities/Sweet%20Potato%20/%20Yam\" class=\" menu-633\">Sweet Potato / Yam</a></li>\\n</ul></li>\\n<li id=\"megamenu-mlid-3829\" class=\"megamenu-slot megamenu-slot-2 odd half-1 leaf-2\"><h3 class=\"megamenu-slot-title nolink\">Oil-bearing crops</h3><ul class=\"megamenu-items \"><li id=\"megamenu-mlid-642\" class=\"megamenu-item megamenu-item-0 odd half-1 leaf-0 first first\"><a href=\"/commodities/groundnut\" class=\" menu-642\">Groundnut</a></li>\\n<li id=\"megamenu-mlid-636\" class=\"megamenu-item megamenu-item-1 even half-2 leaf-1 last last\"><a href=\"/commodities/soybean\" class=\" menu-636\">Soybean</a></li>\\n</ul></li>\\n<li id=\"megamenu-mlid-1058\" class=\"megamenu-slot megamenu-slot-3 even half-2 leaf-3\"><h3 class=\"megamenu-slot-title nolink\">Other Crops</h3><ul class=\"megamenu-items \"><li id=\"megamenu-mlid-635\" class=\"megamenu-item megamenu-item-0 odd half-1 leaf-0 first first\"><a href=\"/commodities/Banana%20/%20Plantain\" class=\" menu-635\">Banana / Plantain</a></li>\\n<li id=\"megamenu-mlid-637\" class=\"megamenu-item megamenu-item-1 even half-1 leaf-1\"><a href=\"/commodities/bean\" class=\" menu-637\">Bean</a></li>\\n<li id=\"megamenu-mlid-640\" class=\"megamenu-item megamenu-item-2 odd half-1 leaf-2\"><a href=\"/commodities/coffee\" class=\" menu-640\">Coffee</a></li>\\n<li id=\"megamenu-mlid-641\" class=\"megamenu-item megamenu-item-3 even half-2 leaf-3\"><a href=\"/commodities/cotton\" class=\" menu-641\">Cotton</a></li>\\n<li id=\"megamenu-mlid-638\" class=\"megamenu-item megamenu-item-4 odd half-2 leaf-4 last last\"><a href=\"/commodities/Sugar%20Cane\" class=\" menu-638\">Sugar Cane</a></li>\\n</ul></li>\\n<li id=\"megamenu-mlid-1059\" class=\"megamenu-slot megamenu-slot-4 odd half-2 leaf-4 last active active-trail last\"><h3 class=\"megamenu-slot-title nolink\">Livestock</h3><ul class=\"megamenu-items \"><li id=\"megamenu-mlid-643\" class=\"megamenu-item megamenu-item-0 odd half-1 leaf-0 first first\"><a href=\"/commodities/cattle\" class=\" menu-643\">Cattle</a></li>\\n<li id=\"megamenu-mlid-644\" class=\"megamenu-item megamenu-item-1 even half-1 leaf-1 active active-trail\"><a href=\"/commodities/goats\" class=\" active active-trail menu-644 active\">Goats</a></li>\\n<li id=\"megamenu-mlid-646\" class=\"megamenu-item megamenu-item-2 odd half-1 leaf-2\"><a href=\"/commodities/pigs\" class=\" menu-646\">Pigs</a></li>\\n<li id=\"megamenu-mlid-645\" class=\"megamenu-item megamenu-item-3 even half-2 leaf-3\"><a href=\"/commodities/poultry\" class=\" menu-645\">Poultry</a></li>\\n<li id=\"megamenu-mlid-647\" class=\"megamenu-item megamenu-item-4 odd half-2 leaf-4 last last\"><a href=\"/commodities/sheep\" class=\" menu-647\">Sheep</a></li>\\n</ul></li>\\n</ul></li>\\n</ul>    </div>\\r\\n  </div><!-- /block-inner -->\\r\\n</div><!-- /block -->\\r\\n  \\r\\n<div id=\"block-views-dig_deeper-contextual_block\" class=\"block block-views even   grid16-0\">\\r\\n  <div class=\"inner clearfix\">\\r\\n            <div class=\"content clearfix\">\\r\\n      <div class=\"view view-dig-deeper view-id-dig_deeper view-display-id-contextual_block view-dom-id-9393e7c1df2904d595e2491faefde36b\">\\n    \\n  \\n  \\n      <div class=\"view-content\">\\n        <div class=\"views-row views-row-1 views-row-odd views-row-first views-row-last\">\\n      \\n  <div class=\"views-field views-field-field-usir-id-value\">        <span class=\"field-content\"><a href=\"/mappr?commodity=GOAT\"><h2>MAPPR</h2> <span class=\"small-text\">Explore this Commodity</span></a></span>  </div>  </div>\\n    </div>\\n  \\n  \\n  \\n  \\n  \\n  \\n</div>    </div>\\r\\n  </div><!-- /block-inner -->\\r\\n</div><!-- /block -->\\r\\n</div></div>\\n            <div id=\"secondary-menu\" class=\"secondary-menu block\">\\n<div id=\"secondary-menu-inner\" class=\"secondary-menu-inner inner clearfix\">\\n<ul class=\"links\"><li class=\"menu-326 first\"><a href=\"/products/data\" title=\"\">Data &amp; Maps</a></li>\\n<li class=\"menu-327\"><a href=\"/products/publication\" title=\"\">Publications</a></li>\\n<li class=\"menu-1045 last\"><a href=\"/products/tool\" title=\"\">Tools</a></li>\\n</ul></div><!-- /secondary-menu-inner -->\\n</div><!-- /secondary-menu -->\\n            </div>\\n        </div><!-- /primary-menu -->\\n      </div><!-- /primary-menu-wrapper -->\\n      <!-- preface-top row: width = grid_width -->\\n      <!-- ?php print theme(\\'grid_row\\', $preface_top, \\'preface-top\\', \\'full-width\\', $grid_width); ?-->\\n      <!-- title area row: width = grid_width -->\\n      <div id=\"title-bar-wrapper\" class=\"full-width\">\\n        <div id=\"title-bar\" class=\"title-bar row grid16-16\">\\n\\t                    <h1 class=\"title\">Goats</h1>\\n                  </div>\\n      </div>\\n      <!-- main row: width = grid_width -->\\n      <div id=\"main-wrapper\" class=\"main-wrapper full-width\">\\n        <div id=\"main\" class=\"main row grid16-16\">\\n          <div id=\"main-inner\" class=\"main-inner inner clearfix\">\\n            \\n            <!-- main group: width = grid_width - sidebar_first_width -->\\n            <div id=\"main-group\" class=\"main-group row nested grid16-16\">\\n              <div id=\"main-group-inner\" class=\"main-group-inner inner\">\\n                \\n                <div id=\"main-content\" class=\"main-content row nested\">\\n                  <div id=\"main-content-inner\" class=\"main-content-inner inner\">\\n                    <!-- content group: width = grid_width - (sidebar_first_width + sidebar_last_width) -->\\n                    <div id=\"content-group\" class=\"content-group row nested grid16-16\">\\n                      <div id=\"content-group-inner\" class=\"content-group-inner inner\">\\n                        \\n                        <div id=\"content-region\" class=\"content-region row nested\">\\n                          <div id=\"content-region-inner\" class=\"content-region-inner inner\">\\n                            <a name=\"main-content-area\" id=\"main-content-area\"></a>\\n                                                        <div id=\"content-inner\" class=\"content-inner block\">\\n                              <div id=\"content-inner-inner\" class=\"content-inner-inner inner\">\\n                                \\n                                                                <div id=\"content-content\" class=\"content-content\">\\n                                  \\r\\n<div id=\"node-60\" class=\"node odd full-node node-type-commodity\">\\r\\n  <div class=\"inner\">\\r\\n    \\r\\n    \\r\\n        \\r\\n\\t\\t<div class=node-view-placeholder>\\r\\n\\t\\t\\t<div id=\"block-views-explore_content_links-block_3\"\\r\\n\\t\\t\\t\\tclass=\"block block-views odd first grid16-0 collapsiblock-processed\">\\r\\n\\t\\t\\t\\t<div class=\"inner clearfix\">\\r\\n\\t\\t\\t\\t\\t<h2 class=\"title\">\\r\\n\\t\\t\\t\\t\\tAfrica contributes 34% of the world\\'s goat stocks with Western Africa holding about a third of them.\\t\\t\\t\\t\\t</h2>\\r\\n\\t\\t\\t\\t\\t<div class=\"content clearfix\">\\r\\n\\t\\t\\t\\t\\t\\t<div class=\"view view-explore-content-links view-id-explore_content_links view-display-id-block_3 view-dom-id-c47e7ea39691baee6b5782f29ca3686d\">\\n        <div class=\"view-header\">\\n      <iframe frameborder=\"0\" height=\"270\" src=\"http://apps.harvestchoice.org/mappr/embed.html?commodity=AN05_GOAT:1&basemap=topo&includeLegend=1\" width=\"100%\"></iframe>    </div>\\n  \\n  \\n  \\n      <div class=\"view-content\">\\n      <table class=\"views-view-grid col-2\">\\n  <tbody>\\n          <tr class=\"row-1 row-first\">\\n                  <td class=\"col-1 col-first\">\\n              \\n  <div class=\"views-field views-field-type\">        <span class=\"field-content type-data\"><a href=\"/products/data/64\"><span class=\"type-name\"><strong>Datasets</strong></span> <span class=\"type-count\">(2)</span></a></span>  </div>          </td>\\n                  <td class=\"col-2 col-last\">\\n              \\n  <div class=\"views-field views-field-type\">        <span class=\"field-content type-publication\"><a href=\"/products/publication/64\"><span class=\"type-name\"><strong>Publications</strong></span> <span class=\"type-count\">(108)</span></a></span>  </div>          </td>\\n              </tr>\\n          <tr class=\"row-2 row-last\">\\n                  <td class=\"col-1 col-first\">\\n              \\n  <div class=\"views-field views-field-type\">        <span class=\"field-content type-map\"><a href=\"/products/map/64\"><span class=\"type-name\"><strong>Maps</strong></span> <span class=\"type-count\">(2)</span></a></span>  </div>          </td>\\n                  <td class=\"col-2 col-last\">\\n              \\n  <div class=\"views-field views-field-type\">        <span class=\"field-content type-tool\"><a href=\"/products/tool/64\"><span class=\"type-name\"><strong>Tools</strong></span> <span class=\"type-count\">(1)</span></a></span>  </div>          </td>\\n              </tr>\\n      </tbody>\\n</table>\\n    </div>\\n  \\n  \\n  \\n  \\n  \\n  \\n</div>\\t\\t\\t\\t\\t</div>\\r\\n\\t\\t\\t\\t</div>\\r\\n\\t\\t\\t</div>\\r\\n\\t\\t</div>\\r\\n    \\r\\n    <div class=\"content clearfix nodebody\">\\r\\n\\t\\t\\t\\t<div class=\"hc-expanded\">\\n<p>Domesticated goats originated from wild goats in Eastern Europe and Southwest Asia and have been kept by humans since before 8,000 BC for their meat, milk, skin, hair and manure. They are easier and cheaper to keep than cattle, and therefore a preferred means of helping poor farmers.</p>\\n<p>The world largest goat stocks are in Asia (60%) followed by Africa (34%), with Western Africa holding about a third of them. In terms of meat production Asia is first with 70% of world production, Africa contributes with 25%, and within it West Africa produces 40% of goat meat. In sub-Saharan Africa Nigeria holds the first place in goat meat production with 25%, then come Sudan with 17%, Ethiopia with 6% and Niger and Kenya each with about 4%. Regional rankings for goat milk are similar the meat rankings, but within Africa, Northern Africa leads in goat milk production with 50%, followed by Eastern and Western Africa with about 23% each. Sudan produces 50% of SSA\\'s goat milk, in further places are Somalia (13%), Niger (9%) and Mali (7%).</p>\\n<p><em>Reference to numbers/statistics are from <a href=\"http://faostat.fao.org/site/339/default.aspx\">FAOSTAT 2010</a> for the year 2008</em></p>\\n</div>\\n\\t   \\r\\n    </div>\\r\\n    \\t<div class=\"node-central-area\">\\r\\n\\t\\t<div class=\"node-central-area-box box1\">\\r\\n\\t\\t\\r\\n\\t\\t<a href=\"/mappr\">\\r\\n\\t\\t<div class=\"node-central-area-box-inner\">\\r\\n\\t\\t\\t<div class=\"node-central-area-box-title\">\\r\\n\\t\\t\\t\\tMAPPR\\r\\n\\t\\t\\t</div>\\r\\n\\t\\t\\t<div class=\"node-central-area-box-description\">\\r\\n\\t\\t\\t\\tAccess and query over 300 layers of spatially-explicit, agricultural-related data at 10km x 10km grid resolution. \\r\\n\\t\\t\\t</div>\\r\\n\\t\\t</div>\\r\\n\\t\\t</a>\\r\\n\\t\\t</div>\\r\\n\\t\\t\\r\\n\\t\\t\\r\\n\\t\\t\\r\\n\\t\\t<div class=\"node-central-area-box box2\">\\r\\n\\t\\t<a href=\"/page/tablr\">\\r\\n\\t\\t<div class=\"node-central-area-box-inner\">\\r\\n\\t\\t<div class=\"node-central-area-box-title\">\\r\\n\\t\\t\\t\\tTABLR\\r\\n\\t\\t\\t</div>\\r\\n\\t\\t\\t<div class=\"node-central-area-box-description\">\\r\\n\\t\\t\\t\\tInteractive report builder to access HarvestChoice\\'s collection of sub-national indicators.\\r\\n\\t\\t\\t</div>\\r\\n\\t\\t</div>\\r\\n\\t\\t</a>\\r\\n\\t\\t</div>\\r\\n\\t\\t\\r\\n\\t\\t<div class=\"node-central-area-box box3\">\\r\\n\\t\\t<a href=\"/page/commodity-dashboard/?CropParam=GOAT\">\\r\\n\\t\\t<div class=\"node-central-area-box-inner\">\\r\\n\\t\\t<div class=\"node-central-area-box-title\">\\r\\n\\t\\t\\tCommodity Dash\\r\\n\\t\\t\\t</div>\\r\\n\\t\\t\\t<div class=\"node-central-area-box-description\">\\r\\n\\t\\t\\t\\tExplore trends in agricultural production and trade over time.\\r\\n\\t\\t\\t</div>\\r\\n\\t\\t</div>\\r\\n\\t\\t</a>\\r\\n\\t\\t</div>\\r\\n\\t\\t\\r\\n\\t</div>\\r\\n\\t  \\t  <div id=\"node-bottom-two-columns\" class=\"node-bottom-two-columns row nested\">\\r\\n\\t    <div id=\"node-bottom-two-columns-inner\" class=\"node-bottom-two-columns-inner inner clearfix\">\\r\\n\\t      <div class=\"left-column\">\\r\\n\\t        \\r\\n<div id=\"block-quicktabs-2\" class=\"block block-quicktabs odd first  grid16-0\">\\r\\n  <div class=\"inner clearfix\">\\r\\n            <div class=\"content clearfix\">\\r\\n      <div id=\"quicktabs-2\" class=\"quicktabs_wrapper quicktabs-style-garland\"><ul class=\"quicktabs_tabs quicktabs-style-garland\"><li class=\"qtab-0 active first\"><a href=\"/commodities/goats?quicktabs_2=0#quicktabs-2\" id=\"quicktabs-tab-2-0\" class=\"qt_tab active\">Latest</a></li><li class=\"qtab-1 last\"><a href=\"/commodities/goats?quicktabs_2=1#quicktabs-2\" id=\"quicktabs-tab-2-1\" class=\"qt_tab active\">Popular</a></li></ul><div id=\"quicktabs_container_2\" class=\"quicktabs_main quicktabs-style-garland\"><div id=\"quicktabs_tabpage_2_0\" class=\"quicktabs_tabpage\">\\r\\n<div id=\"block-views-205aaabfafbae4a10802cf2f90fe8e44\" class=\"block block-views odd  \">\\r\\n  <div class=\"inner clearfix\">\\r\\n            <div class=\"content clearfix\">\\r\\n      <div class=\"view view-commodity-related-content view-id-commodity_related_content view-display-id-latest view-dom-id-69c0e21e540b7925b984b366e0f9abcd\">\\n    \\n  \\n  \\n      <div class=\"view-content\">\\n        <div class=\"views-row views-row-1 views-row-odd views-row-first\">\\n      \\n  <div class=\"views-field views-field-title\">        <span class=\"field-content\"><a href=\"/data/an05_goat\"><div class=\"type-data\">Goat Population (head, 2005) (<span class=\"date-display-single\">April, 2015</span>)</div></a></span>  </div>  </div>\\n  <div class=\"views-row views-row-2 views-row-even\">\\n      \\n  <div class=\"views-field views-field-title\">        <span class=\"field-content\"><a href=\"/data/ad05_goat\"><div class=\"type-data\">Goat Density (head/sq. km, 2005) (<span class=\"date-display-single\">April, 2015</span>)</div></a></span>  </div>  </div>\\n  <div class=\"views-row views-row-3 views-row-odd\">\\n      \\n  <div class=\"views-field views-field-title\">        <span class=\"field-content\"><a href=\"/publications/ruminant-livestock\"><div class=\"type-publication\">Ruminant Livestock (<span class=\"date-display-single\">January, 2014</span>)</div></a></span>  </div>  </div>\\n  <div class=\"views-row views-row-4 views-row-even\">\\n      \\n  <div class=\"views-field views-field-title\">        <span class=\"field-content\"><a href=\"/publications/tanzania-national-sample-census-agriculture-20072008-regional-report-morogoro-region-vo\"><div class=\"type-publication\">[Tanzania] National Sample Census of Agriculture 2007/2008: Regional Report - Morogoro Region (Volume Ve) (<span class=\"date-display-single\">October, 2012</span>)</div></a></span>  </div>  </div>\\n  <div class=\"views-row views-row-5 views-row-odd\">\\n      \\n  <div class=\"views-field views-field-title\">        <span class=\"field-content\"><a href=\"/publications/tanzania-national-sample-census-agriculture-20072008-regional-report-shinyanga-region-v\"><div class=\"type-publication\">[Tanzania] National Sample Census of Agriculture 2007/2008: Regional Report - Shinyanga Region (Volume Vh) (<span class=\"date-display-single\">October, 2012</span>)</div></a></span>  </div>  </div>\\n  <div class=\"views-row views-row-6 views-row-even\">\\n      \\n  <div class=\"views-field views-field-title\">        <span class=\"field-content\"><a href=\"/publications/tanzania-national-sample-census-agriculture-20072008-small-holder-agriculture-regiona-1\"><div class=\"type-publication\">[Tanzania] National Sample Census of Agriculture 2007/2008 Small Holder Agriculture: Regional Report - Ruvuma Region (Volume Vj) (<span class=\"date-display-single\">September, 2012</span>)</div></a></span>  </div>  </div>\\n  <div class=\"views-row views-row-7 views-row-odd\">\\n      \\n  <div class=\"views-field views-field-title\">        <span class=\"field-content\"><a href=\"/publications/tanzania-national-sample-census-agriculture-20072008-regional-report-arusha-region-volu\"><div class=\"type-publication\">[Tanzania] National Sample Census of Agriculture 2007/2008: Regional Report - Arusha Region (Volume Vb) (<span class=\"date-display-single\">August, 2012</span>)</div></a></span>  </div>  </div>\\n  <div class=\"views-row views-row-8 views-row-even\">\\n      \\n  <div class=\"views-field views-field-title\">        <span class=\"field-content\"><a href=\"/publications/tanzania-national-sample-census-agriculture-20072008-regional-report-rukwa-region-volum\"><div class=\"type-publication\">[Tanzania] National Sample Census of Agriculture 2007/2008: Regional Report - Rukwa Region (Volume Vp) (<span class=\"date-display-single\">August, 2012</span>)</div></a></span>  </div>  </div>\\n  <div class=\"views-row views-row-9 views-row-odd\">\\n      \\n  <div class=\"views-field views-field-title\">        <span class=\"field-content\"><a href=\"/publications/tanzania-national-sample-census-agriculture-20072008-small-holder-agriculture-regiona-7\"><div class=\"type-publication\">[Tanzania] National Sample Census of Agriculture 2007/2008 Small Holder Agriculture: Regional Report - Dodoma Region (Volume Va) (<span class=\"date-display-single\">July, 2012</span>)</div></a></span>  </div>  </div>\\n  <div class=\"views-row views-row-10 views-row-even views-row-last\">\\n      \\n  <div class=\"views-field views-field-title\">        <span class=\"field-content\"><a href=\"/publications/tanzania-national-sample-census-agriculture-20072008-small-holder-agriculture-regiona-6\"><div class=\"type-publication\">[Tanzania] National Sample Census of Agriculture 2007/2008 Small Holder Agriculture: Regional Report - Kilimanjaro Region (Volume Vc) (<span class=\"date-display-single\">July, 2012</span>)</div></a></span>  </div>  </div>\\n    </div>\\n  \\n  \\n  \\n  \\n  \\n  \\n</div>    </div>\\r\\n  </div><!-- /block-inner -->\\r\\n</div><!-- /block -->\\r\\n</div><div id=\"quicktabs_tabpage_2_1\" class=\"quicktabs_tabpage quicktabs-hide\">\\r\\n<div id=\"block-views-9c244b57b2e9446ca49ddef4f5d0e887\" class=\"block block-views even  \">\\r\\n  <div class=\"inner clearfix\">\\r\\n            <div class=\"content clearfix\">\\r\\n      <div class=\"view view-commodity-related-content view-id-commodity_related_content view-display-id-popular view-dom-id-86883e688e8363d13627f051bda23055\">\\n    \\n  \\n  \\n      <div class=\"view-content\">\\n        <div class=\"views-row views-row-1 views-row-odd views-row-first\">\\n      \\n  <div class=\"views-field views-field-title\">        <span class=\"field-content\"><a href=\"/publications/tanzania-national-sample-census-agriculture-20022003-volume-vb-va-regional-report-arush\"><div class=\"type-publication\">[Tanzania] National Sample Census of Agriculture 2002/2003, Volume Vb (Va): Regional Report, Arusha Region (<span class=\"date-display-single\">December, 2007</span>)</div></a></span>  </div>  </div>\\n  <div class=\"views-row views-row-2 views-row-even\">\\n      \\n  <div class=\"views-field views-field-title\">        <span class=\"field-content\"><a href=\"/publications/botswana-2004-botswana-agricultural-census-report\"><div class=\"type-publication\">[Botswana] 2004 Botswana Agricultural Census Report (<span class=\"date-display-single\">February, 2007</span>)</div></a></span>  </div>  </div>\\n  <div class=\"views-row views-row-3 views-row-odd\">\\n      \\n  <div class=\"views-field views-field-title\">        <span class=\"field-content\"><a href=\"/publications/tanzania-national-sample-census-agriculture-20022003-volume-vm-regional-report-singida-\"><div class=\"type-publication\">[Tanzania] National Sample Census of Agriculture 2002/2003, Volume Vm: Regional Report, Singida Region. (<span class=\"date-display-single\">December, 2007</span>)</div></a></span>  </div>  </div>\\n  <div class=\"views-row views-row-4 views-row-even\">\\n      \\n  <div class=\"views-field views-field-title\">        <span class=\"field-content\"><a href=\"/publications/tanzania-national-sample-census-agriculture-20022003-volume-ve-regional-report-morogoro\"><div class=\"type-publication\">[Tanzania] National Sample Census of Agriculture 2002/2003, Volume Ve: Regional Report, Morogoro Region (<span class=\"date-display-single\">December, 2007</span>)</div></a></span>  </div>  </div>\\n  <div class=\"views-row views-row-5 views-row-odd\">\\n      \\n  <div class=\"views-field views-field-title\">        <span class=\"field-content\"><a href=\"/publications/tanzania-national-sample-census-agriculture-20022003-volume-vh-regional-report-lindi-re\"><div class=\"type-publication\">[Tanzania] National Sample Census of Agriculture 2002/2003, Volume Vh: Regional Report,  Lindi Region (<span class=\"date-display-single\">December, 2007</span>)</div></a></span>  </div>  </div>\\n  <div class=\"views-row views-row-6 views-row-even\">\\n      \\n  <div class=\"views-field views-field-title\">        <span class=\"field-content\"><a href=\"/publications/agricultural-sector-argentina-major-trends-and-recent-developments\"><div class=\"type-publication\">The Agricultural Sector in Argentina: Major Trends and Recent Developments (<span class=\"date-display-single\">January, 2010</span>)</div></a></span>  </div>  </div>\\n  <div class=\"views-row views-row-7 views-row-odd\">\\n      \\n  <div class=\"views-field views-field-title\">        <span class=\"field-content\"><a href=\"/publications/tanzania-national-sample-census-agriculture-20072008-regional-report-morogoro-region-vo\"><div class=\"type-publication\">[Tanzania] National Sample Census of Agriculture 2007/2008: Regional Report - Morogoro Region (Volume Ve) (<span class=\"date-display-single\">October, 2012</span>)</div></a></span>  </div>  </div>\\n  <div class=\"views-row views-row-8 views-row-even\">\\n      \\n  <div class=\"views-field views-field-title\">        <span class=\"field-content\"><a href=\"/publications/tanzania-national-sample-census-agriculture-20072008-regional-report-arusha-region-volu\"><div class=\"type-publication\">[Tanzania] National Sample Census of Agriculture 2007/2008: Regional Report - Arusha Region (Volume Vb) (<span class=\"date-display-single\">August, 2012</span>)</div></a></span>  </div>  </div>\\n  <div class=\"views-row views-row-9 views-row-odd\">\\n      \\n  <div class=\"views-field views-field-title\">        <span class=\"field-content\"><a href=\"/publications/south-africa-census-agriculture-provincial-statistics-2002-mpumalanga-financial-and-pro\"><div class=\"type-publication\">[South Africa] Census of Agriculture Provincial Statistics 2002- Mpumalanga: Financial and Production Statistics (<span class=\"date-display-single\">January, 2006</span>)</div></a></span>  </div>  </div>\\n  <div class=\"views-row views-row-10 views-row-even views-row-last\">\\n      \\n  <div class=\"views-field views-field-title\">        <span class=\"field-content\"><a href=\"/publications/tanzania-national-sample-census-agriculture-20022003-volume-vr-regional-report-kagera-r\"><div class=\"type-publication\">[Tanzania] National Sample Census of Agriculture 2002/2003, Volume Vr: Regional Report, Kagera Region (<span class=\"date-display-single\">December, 2007</span>)</div></a></span>  </div>  </div>\\n    </div>\\n  \\n  \\n  \\n  \\n  \\n  \\n</div>    </div>\\r\\n  </div><!-- /block-inner -->\\r\\n</div><!-- /block -->\\r\\n</div></div></div>    </div>\\r\\n  </div><!-- /block-inner -->\\r\\n</div><!-- /block -->\\r\\n\\t      </div>\\r\\n\\t      <div class=\"right-column\">\\r\\n\\t        \\r\\n<div id=\"block-views-b1943f124374f1c32bdd4e1437b358a0\" class=\"block block-views odd first  grid16-0\">\\r\\n  <div class=\"inner clearfix\">\\r\\n            <div class=\"content clearfix\">\\r\\n      <div class=\"view view-commodity-related-content view-id-commodity_related_content view-display-id-voice_blog voice view-dom-id-f7c9b3970b080d86f420487a69f36af6\">\\n        <div class=\"view-header\">\\n      <h2 class=\"title\"><a href=\"/voice\">HarvestChoice Voice</a></h2>\\n    </div>\\n  \\n  \\n  \\n      <div class=\"view-content\">\\n        <div class=\"views-row views-row-1 views-row-odd views-row-first views-row-last\">\\n      \\n  <div class=\"views-field views-field-field-thumbnail-fid\">        <span class=\"field-content\"><a href=\"/labs/datatile-v01\" class=\"imagecache imagecache-homepage_feature_wide imagecache-linked imagecache-homepage_feature_wide_linked\"><img src=\"http://harvestchoice.org/sites/default/files/imagecache/homepage_feature_wide/images/thumbnails/blogs/data_tile.png\" alt=\"Layered information on a grid cell\" title=\"Layered information on a grid cell\"  class=\"imagecache imagecache-homepage_feature_wide\" width=\"390\" height=\"167\" /></a></span>  </div>  \\n  <div class=\"views-field views-field-title\">        <h2 class=\"field-content title\"><a href=\"/labs/datatile-v01\"><div class=\"type-labs\">DataTile v0.1</div></a></h2>  </div>  \\n  <div class=\"views-field views-field-teaser\">        <div class=\"field-content\"><p>Many of HarvestChoice spatial datasets are organized and released on 10-km grids. To make spatial analyses easier for researchers (even without having access to GIS platform), we put data layers from multiple themes together in one denormalized big table. This post describes the methodology and presents a prototype.</p>\\n</div>  </div>  \\n  <div class=\"views-field views-field-view-node\">        <span class=\"field-content more-link\"><a href=\"/labs/datatile-v01\">Read</a></span>  </div>  </div>\\n    </div>\\n  \\n  \\n  \\n  \\n  \\n  \\n</div>    </div>\\r\\n  </div><!-- /block-inner -->\\r\\n</div><!-- /block -->\\r\\n  \\r\\n<div id=\"block-views-2e1d7c550da7a2839de4067bd59f603f\" class=\"block block-views even   grid16-0\">\\r\\n  <div class=\"inner clearfix\">\\r\\n            <h2 class=\"title block-title\">Commodity Contacts</h2>\\r\\n        <div class=\"content clearfix\">\\r\\n      <div class=\"view view-commodity-related-content view-id-commodity_related_content view-display-id-key_collaborators view-dom-id-eb4058e75d3a90aa035a2ac6fa0ab807\">\\n    \\n  \\n  \\n      <div class=\"view-content\">\\n        <div class=\"views-row views-row-1 views-row-odd views-row-first views-row-last\">\\n      \\n  <div class=\"views-field views-field-field-thumbnail-fid hc-left thumbnail\">        <span class=\"field-content hc-left thumbnail\"><a href=\"/individual/carlo-azzarri\" class=\"imagecache imagecache-profile_pic_small_square imagecache-linked imagecache-profile_pic_small_square_linked\"><img src=\"http://harvestchoice.org/sites/default/files/imagecache/profile_pic_small_square/images/thumbnails/individuals/Azzarri_Carlo.jpg\" alt=\"\" title=\"\"  class=\"imagecache imagecache-profile_pic_small_square\" width=\"90\" height=\"113\" /></a></span>  </div>  \\n  <div class=\"views-field views-field-title\">        <strong class=\"field-content\"><a href=\"/individual/carlo-azzarri\">Carlo Azzarri</a></strong>  </div>  \\n  <div class=\"views-field views-field-field-program-focus-value\">        <span class=\"field-content\">Economics</span>  </div>  \\n  <div class=\"views-field views-field-field-institution-abbreviation-value\">        <span class=\"field-content\">IFPRI</span>  </div>  </div>\\n    </div>\\n  \\n  \\n  \\n  \\n  \\n  \\n</div>    </div>\\r\\n  </div><!-- /block-inner -->\\r\\n</div><!-- /block -->\\r\\n\\t      </div>\\r\\n\\t    </div><!-- /node-bottom-two-columns-inner -->\\r\\n\\t  </div><!-- /node-bottom-two-columns -->\\r\\n\\t  \\t  \\r\\n        </div><!-- /inner -->\\r\\n  \\r\\n</div><!-- /node-60 -->\\r\\n                                                                  </div><!-- /content-content -->\\n                                                              </div><!-- /content-inner-inner -->\\n                            </div><!-- /content-inner -->\\n                          </div><!-- /content-region-inner -->\\n                        </div><!-- /content-region -->\\n\\n                                              </div><!-- /content-group-inner -->\\n                    </div><!-- /content-group -->\\n\\n                                      </div><!-- /main-content-inner -->\\n                </div><!-- /main-content -->\\n\\n                              </div><!-- /main-group-inner -->\\n            </div><!-- /main-group -->\\n          </div><!-- /main-inner -->\\n        </div><!-- /main -->\\n      </div><!-- /main-wrapper -->\\n\\n      <!-- postscript-bottom row: width = grid_width -->\\n      \\n</div><!-- /page-inner -->\\n  </div><!-- /page -->\\n\\n      <!-- footer row: width = grid_width -->\\n      <div class=\"big-footer\">\\n      <div class=\"big-footer-inner\">\\n\\t      <div class=\"footer-columns clearfix\">\\n\\t\\t      <div class=\"col-1\">\\n\\t\\t          \\r\\n<div id=\"block-boxes-footer_about_us\" class=\"block block-boxes even   grid16-0\">\\r\\n  <div class=\"inner clearfix\">\\r\\n            <div class=\"content clearfix\">\\r\\n      <div id=\\'boxes-box-footer_about_us\\' class=\\'boxes-box\\'><div class=\"boxes-box-content\"><p>HarvestChoice generates knowledge products to help guide strategic investments to improve the well-being of poor people in sub-Saharan Africa through more productive and profitable farming.</p>\\n<div style=\"float:left;\"><a href=\"https://harvestchoice.wufoo.com/forms/m7x1a3/\" rel=\"lightframe[Feedback|width:700px; height:780px; scrolling: auto;]\" class=\"hc-link\"><span>FEEDBACK</span></a></div>\\n<div class=\"stay-updated\"><a class=\"feeds\" href=\"/feeds\">Folow our feeds</a></div>\\n<div class=\"stay-updated\"><a class=\"flickr\" href=\"http://www.flickr.com/photos/harvestchoice/\">Check our Flickr photos</a></div>\\n<div class=\"stay-updated\"><a class=\"twitter\" href=\"https://twitter.com/harvestchoice\">Follow us on Twitter</a></div>\\n<div class=\"stay-updated\"><a class=\"facebook\" href=\"http://www.facebook.com/HarvestChoice\">Become a fan on Facebook</a></div>\\n</div></div>    </div>\\r\\n  </div><!-- /block-inner -->\\r\\n</div><!-- /block -->\\r\\n\\t\\t      </div>\\n\\t        <div class=\"col-2\">\\n\\t           \\r\\n<div id=\"block-boxes-footer_links\" class=\"block block-boxes even   grid16-0\">\\r\\n  <div class=\"inner clearfix\">\\r\\n            <div class=\"content clearfix\">\\r\\n      <div id=\\'boxes-box-footer_links\\' class=\\'boxes-box\\'><div class=\"boxes-box-content\"><div class=\"cols clearfix\">\\n\\t<div class=\"col1\">\\n\\t\\t<h2 class=\"title\">About</h2>\\n\\t\\t<ul>\\n\\t\\t\\t<li><a href=\"/contact\">Contact Us</a></li>\\n\\t\\t\\t<li><a href=\"/about/supporters\">Supporters</a></li>\\n<li><a href=\"/about/partners\">Partners</a></li>\\n\\t\\t\\t<li><a href=\"/about/our-people\">Our People</a></li>\\n\\t\\t\\t<li><a href=\"/about/project-log\">Project Log</a></li>\\n<li><a href=\"/about/media\">Media</a></li>\\n<li><a href=\"/about/events\">Events</a></li>\\t\\t\\t\\n<li><a href=\"/credits\">Credits</a></li>\\n\\t\\t</ul>\\n\\t</div>\\n<div class=\"col2\">\\n\\t\\t<h2 class=\"title\">Resources</h2>\\n\\t\\t<ul>\\n\\t\\t\\t<li><a href=\"/products/data\">Data</a></li>\\n\\t\\t\\t<li><a href=\"/products/publication\">Publications</a></li>\\n\\t\\t\\t<li><a href=\"/products/map\">Maps</a></li>\\n\\t\\t\\t<li><a href=\"/products/tool\">Tools</a></li>\\n\\t\\t\\t<li><a href=\"/topics\">Topics</a></li>\\n                        <li><a href=\"/regions\">Regions</a></li>\\n\\t\\t\\t<li><a href=\"/commodities\">Commodities</a></li>\\n\\t\\t\\t<li><a href=\"/mappr\">Mappr</a></li>\\n\\t\\t</ul>\\n\\t</div>\\n</div></div></div>    </div>\\r\\n  </div><!-- /block-inner -->\\r\\n</div><!-- /block -->\\r\\n\\t        </div>\\n\\t        <div class=\"col-3\">\\n\\t           \\r\\n<div id=\"block-boxes-footer_blog_links\" class=\"block block-boxes even   grid16-0\">\\r\\n  <div class=\"inner clearfix\">\\r\\n            <div class=\"content clearfix\">\\r\\n      <div id=\\'boxes-box-footer_blog_links\\' class=\\'boxes-box\\'><div class=\"boxes-box-content\"><div class=\"partner\"><a href=\"http://umn.edu\" title=\"University of Minnesota\" class=\"link\"><img src=\"/sites/all/themes/global/images/umn_logo.png\" alt /></a></div>\\n<div class=\"partner\"><a href=\"http://ifpri.org\" title=\"International Food Policy Research Institute\" class=\"link\"><img src=\"/sites/all/themes/global/images/ifpri_logo.png\" alt /></a></div>\\n</div></div>    </div>\\r\\n  </div><!-- /block-inner -->\\r\\n</div><!-- /block -->\\r\\n\\t        </div>\\n        </div>\\n        <div id=\"footer-wrapper\" class=\"footer-wrapper full-width\">\\n<div id=\"footer\" class=\"footer row grid16-16\">\\n<div id=\"footer-inner\" class=\"footer-inner inner clearfix\">\\n  \\r\\n<div id=\"block-boxes-footer_copyright\" class=\"block block-boxes odd first  grid16-0\">\\r\\n  <div class=\"inner clearfix\">\\r\\n            <div class=\"content clearfix\">\\r\\n      <div id=\\'boxes-box-footer_copyright\\' class=\\'boxes-box\\'><div class=\"boxes-box-content\"><p>\\xa92015 HarvestChoice. All rights reserved.</p>\\n</div></div>    </div>\\r\\n  </div><!-- /block-inner -->\\r\\n</div><!-- /block -->\\r\\n</div><!-- /footer-inner -->\\n</div><!-- /footer -->\\n</div><!-- /footer-wrapper -->\\n      </div>\\n      </div>\\n      \\n      <!-- footer-message row: width = grid_width -->\\n      <div id=\"footer-message-wrapper\" class=\"footer-message-wrapper full-width\">\\n        <div id=\"footer-message\" class=\"footer-message row grid16-16\">\\n          <div id=\"footer-message-inner\" class=\"footer-message-inner inner clearfix\">\\n                      </div><!-- /footer-message-inner -->\\n        </div><!-- /footer-message -->\\n      </div><!-- /footer-message-wrapper -->\\n\\n    \\n  <script type=\"text/javascript\">\\n<!--//--><![CDATA[//><!--\\nvar _gaq = _gaq || [];_gaq.push([\"_setAccount\", \"UA-5299684-6\"]);_gaq.push([\\'_setCustomVar\\', 1, \"User Role\", \"anonymous user\", 3]);_gaq.push([\"_trackPageview\"]);(function() {var ga = document.createElement(\"script\");ga.type = \"text/javascript\";ga.async = true;ga.src = (\"https:\" == document.location.protocol ? \"https://ssl\" : \"http://www\") + \".google-analytics.com/ga.js\";var s = document.getElementsByTagName(\"script\")[0];s.parentNode.insertBefore(ga, s);})();\\n//--><!]]>\\n</script>\\n  <script type=\"text/javascript\" src=\"http://s7.addthis.com/js/250/addthis_widget.js\"></script>\\n</body>\\n</html>\\n'"
       ]
      }
     ],
     "prompt_number": 11
    },
    {
     "cell_type": "code",
     "collapsed": false,
     "input": [
      "honeyBunches = requests.get(\"http://www.amazon.com/s/ref=nb_sb_ss_i_3_5?url=search-alias%3Dgrocery&field-keywords=honey+bunches+of+oats&sprefix=Honey%2Caps%2C192&rh=n%3A16310101%2Ck%3Ahoney+bunches+of+oats\")"
     ],
     "language": "python",
     "metadata": {},
     "outputs": [],
     "prompt_number": 43
    },
    {
     "cell_type": "markdown",
     "metadata": {},
     "source": [
      "####I just copied the link from my browser and pasted it above####\n",
      "Python just went out and collected the data from the webpage <br>\n",
      "\n",
      "Let's see what it looks like <br>\n",
      "\n",
      "We do that by calling the text method"
     ]
    },
    {
     "cell_type": "code",
     "collapsed": false,
     "input": [
      "honeyBunches.text[0:1400]"
     ],
     "language": "python",
     "metadata": {},
     "outputs": [
      {
       "metadata": {},
       "output_type": "pyout",
       "prompt_number": 45,
       "text": [
        "u'\\n<!doctype html><!--[if lt IE 7]><html class=\"a-no-js a-lt-ie10 a-lt-ie9 a-lt-ie8 a-lt-ie7 a-ie6\" data-19ax5a9jf=\"dingo\"><![endif]--><!--[if IE 7]><html class=\"a-no-js a-lt-ie10 a-lt-ie9 a-lt-ie8 a-ie7\" data-19ax5a9jf=\"dingo\"><![endif]--><!--[if IE 8]><html class=\"a-no-js a-lt-ie10 a-lt-ie9 a-ie8\" data-19ax5a9jf=\"dingo\"><![endif]--><!--[if IE 9]><html class=\"a-no-js a-lt-ie10 a-ie9\" data-19ax5a9jf=\"dingo\"><![endif]--><!--[if !IE]><!--><html class=\"a-no-js\" data-19ax5a9jf=\"dingo\"><!--<![endif]--><head><script>var aPageStart = (new Date()).getTime();</script><meta charset=\"utf-8\"><link rel=\"dns-prefetch\" href=\"ecx.images-amazon.com\" />\\n                    <link rel=\"dns-prefetch\" href=\"g-ecx.images-amazon.com\" />\\n                    <link rel=\"dns-prefetch\" href=\"z-ecx.images-amazon.com\" />\\n                <link rel=\"stylesheet\" href=\"http://z-ecx.images-amazon.com/images/G/01/AUIClients/AmazonUI-f720defac608ace8e3c25fdb17b78e19f35bd543._V2_.css#AUIClients/AmazonUI.rendering_engine-not-trident.weblab-AUI_BOLT_51922-T1.min\" />\\n<link rel=\"stylesheet\" href=\"http://z-ecx.images-amazon.com/images/G/01/AUIClients/RetailSearchAssets-5435ef50ccf4b9ffd41dba89053f9cf227071a56._V2_.css#AUIClients/RetailSearchAssets.us.renderskin-pc.search-results-aui.min\" />\\n<style>\\nul.s-result-list{margin:0 0 0 4px;padding:0;word-spacing:-4px;letter-spacing:-4px}ul.s-result-list li.s-result-item{display:in'"
       ]
      }
     ],
     "prompt_number": 45
    },
    {
     "cell_type": "markdown",
     "metadata": {},
     "source": [
      "####Gross - requests did fetch the webpage, but the data we want is buried in the HMTL####\n",
      "\n",
      "We will use another library to help us parse this HTML"
     ]
    },
    {
     "cell_type": "code",
     "collapsed": false,
     "input": [
      "from bs4 import BeautifulSoup"
     ],
     "language": "python",
     "metadata": {},
     "outputs": [],
     "prompt_number": 6
    },
    {
     "cell_type": "markdown",
     "metadata": {},
     "source": [
      "BeautifulSoup makes it easier for us to parse through the specific HTML tags we want <br>\n",
      "\n",
      "We can figure out which tags have our data by using the \"Web Inspector\" feature of your browser <br>\n",
      "\n",
      "Here's a quick example:"
     ]
    },
    {
     "cell_type": "code",
     "collapsed": false,
     "input": [
      "%%html\n",
      "<html>\n",
      "<h1>I'm a header</h1>\n",
      "<p>I'm a paragraph</p1>\n",
      "</html>"
     ],
     "language": "python",
     "metadata": {},
     "outputs": [
      {
       "html": [
        "<html>\n",
        "<h1>I'm a header</h1>\n",
        "<p>I'm a paragraph</p1>\n",
        "</html>"
       ],
       "metadata": {},
       "output_type": "display_data",
       "text": [
        "<IPython.core.display.HTML at 0x10fa5b70>"
       ]
      }
     ],
     "prompt_number": 55
    },
    {
     "cell_type": "code",
     "collapsed": false,
     "input": [
      "html_example = \"\"\"<HTML>\n",
      "<h1>I'm a paragraph</h1>\n",
      "<p>I'm a paragraph</p>\n",
      "</HTML>\"\"\""
     ],
     "language": "python",
     "metadata": {},
     "outputs": [],
     "prompt_number": 60
    },
    {
     "cell_type": "code",
     "collapsed": false,
     "input": [
      "quick_soup = BeautifulSoup(html_example)\n",
      "quick_soup.find_all('h1')"
     ],
     "language": "python",
     "metadata": {},
     "outputs": [
      {
       "metadata": {},
       "output_type": "pyout",
       "prompt_number": 61,
       "text": [
        "[<h1>I'm a paragraph</h1>]"
       ]
      }
     ],
     "prompt_number": 61
    },
    {
     "cell_type": "markdown",
     "metadata": {},
     "source": [
      "####So let's get the prices for our Honey Bunches of Oats####"
     ]
    },
    {
     "cell_type": "code",
     "collapsed": false,
     "input": [
      "html = honeyBunches.text\n",
      "soup = BeautifulSoup(goat_page.text)\n",
      "data = soup.find_all('p')\n",
      "print data"
     ],
     "language": "python",
     "metadata": {},
     "outputs": [
      {
       "ename": "NameError",
       "evalue": "name 'honeyBunches' is not defined",
       "output_type": "pyerr",
       "traceback": [
        "\u001b[1;31m---------------------------------------------------------------------------\u001b[0m\n\u001b[1;31mNameError\u001b[0m                                 Traceback (most recent call last)",
        "\u001b[1;32m<ipython-input-2-a6a2c282787c>\u001b[0m in \u001b[0;36m<module>\u001b[1;34m()\u001b[0m\n\u001b[1;32m----> 1\u001b[1;33m \u001b[0mhtml\u001b[0m \u001b[1;33m=\u001b[0m \u001b[0mhoneyBunches\u001b[0m\u001b[1;33m.\u001b[0m\u001b[0mtext\u001b[0m\u001b[1;33m\u001b[0m\u001b[0m\n\u001b[0m\u001b[0;32m      2\u001b[0m \u001b[0msoup\u001b[0m \u001b[1;33m=\u001b[0m \u001b[0mBeautifulSoup\u001b[0m\u001b[1;33m(\u001b[0m\u001b[0mgoat_page\u001b[0m\u001b[1;33m.\u001b[0m\u001b[0mtext\u001b[0m\u001b[1;33m)\u001b[0m\u001b[1;33m\u001b[0m\u001b[0m\n\u001b[0;32m      3\u001b[0m \u001b[0mdata\u001b[0m \u001b[1;33m=\u001b[0m \u001b[0msoup\u001b[0m\u001b[1;33m.\u001b[0m\u001b[0mfind_all\u001b[0m\u001b[1;33m(\u001b[0m\u001b[1;34m'p'\u001b[0m\u001b[1;33m)\u001b[0m\u001b[1;33m\u001b[0m\u001b[0m\n\u001b[0;32m      4\u001b[0m \u001b[1;32mprint\u001b[0m \u001b[0mdata\u001b[0m\u001b[1;33m\u001b[0m\u001b[0m\n",
        "\u001b[1;31mNameError\u001b[0m: name 'honeyBunches' is not defined"
       ]
      }
     ],
     "prompt_number": 2
    },
    {
     "cell_type": "markdown",
     "metadata": {},
     "source": [
      "####Still not much better than the text we got back from requests#####\n",
      "Let's go back to our web inspector and see if we can find anything else of use<br>\n",
      "\n",
      "It looks like \"a-size-base a-color-price s-price a-text-bold\" indicates a price is listed, so let's use that"
     ]
    },
    {
     "cell_type": "code",
     "collapsed": false,
     "input": [
      "soup = BeautifulSoup(goat_page.text)\n",
      "data = soup.find_all(\"p\")\n",
      "summary = \"\"\n",
      "for index, row in enumerate(data):\n",
      "    if index < 2:\n",
      "        summary += str(row)\n",
      "summary[3:-4]"
     ],
     "language": "python",
     "metadata": {},
     "outputs": [
      {
       "metadata": {},
       "output_type": "pyout",
       "prompt_number": 20,
       "text": [
        "\"Domesticated goats originated from wild goats in Eastern Europe and Southwest Asia and have been kept by humans since before 8,000 BC for their meat, milk, skin, hair and manure. They are easier and cheaper to keep than cattle, and therefore a preferred means of helping poor farmers.</p><p>The world largest goat stocks are in Asia (60%) followed by Africa (34%), with Western Africa holding about a third of them. In terms of meat production Asia is first with 70% of world production, Africa contributes with 25%, and within it West Africa produces 40% of goat meat. In sub-Saharan Africa Nigeria holds the first place in goat meat production with 25%, then come Sudan with 17%, Ethiopia with 6% and Niger and Kenya each with about 4%. Regional rankings for goat milk are similar the meat rankings, but within Africa, Northern Africa leads in goat milk production with 50%, followed by Eastern and Western Africa with about 23% each. Sudan produces 50% of SSA's goat milk, in further places are Somalia (13%), Niger (9%) and Mali (7%).\""
       ]
      }
     ],
     "prompt_number": 20
    },
    {
     "cell_type": "code",
     "collapsed": false,
     "input": [
      "data = soup.find_all('span', 'a-size-base a-color-price s-price a-text-bold')"
     ],
     "language": "python",
     "metadata": {},
     "outputs": [
      {
       "metadata": {},
       "output_type": "pyout",
       "prompt_number": 44,
       "text": [
        "[<span class=\"a-size-base a-color-price s-price a-text-bold\">$2.65</span>,\n",
        " <span class=\"a-size-base a-color-price s-price a-text-bold\">$9.73</span>,\n",
        " <span class=\"a-size-base a-color-price s-price a-text-bold\">$15.50</span>,\n",
        " <span class=\"a-size-base a-color-price s-price a-text-bold\">$23.00</span>,\n",
        " <span class=\"a-size-base a-color-price s-price a-text-bold\">$23.00</span>,\n",
        " <span class=\"a-size-base a-color-price s-price a-text-bold\">$15.15</span>,\n",
        " <span class=\"a-size-base a-color-price s-price a-text-bold\">$8.07</span>,\n",
        " <span class=\"a-size-base a-color-price s-price a-text-bold\">$11.99</span>,\n",
        " <span class=\"a-size-base a-color-price s-price a-text-bold\">$11.48</span>,\n",
        " <span class=\"a-size-base a-color-price s-price a-text-bold\">$20.93</span>,\n",
        " <span class=\"a-size-base a-color-price s-price a-text-bold\">$12.00</span>,\n",
        " <span class=\"a-size-base a-color-price s-price a-text-bold\">$8.55</span>,\n",
        " <span class=\"a-size-base a-color-price s-price a-text-bold\">$16.99</span>,\n",
        " <span class=\"a-size-base a-color-price s-price a-text-bold\">$13.48</span>,\n",
        " <span class=\"a-size-base a-color-price s-price a-text-bold\">$13.07</span>,\n",
        " <span class=\"a-size-base a-color-price s-price a-text-bold\">$29.99</span>,\n",
        " <span class=\"a-size-base a-color-price s-price a-text-bold\">$4.98</span>,\n",
        " <span class=\"a-size-base a-color-price s-price a-text-bold\">$3.42</span>,\n",
        " <span class=\"a-size-base a-color-price s-price a-text-bold\">$7.73</span>,\n",
        " <span class=\"a-size-base a-color-price s-price a-text-bold\">$3.74</span>,\n",
        " <span class=\"a-size-base a-color-price s-price a-text-bold\">$8.99</span>,\n",
        " <span class=\"a-size-base a-color-price s-price a-text-bold\">$26.98</span>,\n",
        " <span class=\"a-size-base a-color-price s-price a-text-bold\">$1.75</span>,\n",
        " <span class=\"a-size-base a-color-price s-price a-text-bold\">$3.48</span>]"
       ]
      }
     ],
     "prompt_number": 44
    },
    {
     "cell_type": "code",
     "collapsed": false,
     "input": [
      "page = requests.get('http://www.nfl.com/stats/player?seasonId=2015&seasonType=REG&Submit=Go')"
     ],
     "language": "python",
     "metadata": {},
     "outputs": [],
     "prompt_number": 48
    },
    {
     "cell_type": "code",
     "collapsed": false,
     "input": [
      "soup = BeautifulSoup(page.text)\n",
      "#data = soup.find_all('div', {\"class\": \"col space-top-10 leaders-defense\"})\n",
      "data = soup.find_all(\"div\", {\"class\": \"name\"})\n",
      "for row in data:\n",
      "    print row\n",
      "    break"
     ],
     "language": "python",
     "metadata": {},
     "outputs": [],
     "prompt_number": 62
    },
    {
     "cell_type": "code",
     "collapsed": false,
     "input": [
      "%%html\n",
      "\n",
      "<link rel=\"stylesheet\" href=\"http://cdn.leafletjs.com/leaflet-0.7.5/leaflet.css\" />\n",
      "<script src=\"http://cdn.leafletjs.com/leaflet-0.7.5/leaflet.js\"></script>\n",
      "\n",
      "<body>\n",
      "<div id=\"map\" style=\"width: 600px; height: 400px\"></div>\n",
      "\n",
      "<script>\n",
      "\n",
      "var map = L.map('map').setView([5.759799699999999, -0.2197507], 13);\n",
      "L.tileLayer('https://api.tiles.mapbox.com/v4/{id}/{z}/{x}/{y}.png?access_token=pk.eyJ1IjoibWFwYm94IiwiYSI6IjZjNmRjNzk3ZmE2MTcwOTEwMGY0MzU3YjUzOWFmNWZhIn0.Y8bhBaUMqFiPrDRW9hieoQ', {\n",
      "maxZoom: 18,\n",
      "attribution: 'Map data &copy; <a href=\"http://openstreetmap.org\">OpenStreetMap</a> contributors, ' +\n",
      "'<a href=\"http://creativecommons.org/licenses/by-sa/2.0/\">CC-BY-SA</a>, ' +\n",
      "'Imagery \u00a9 <a href=\"http://mapbox.com\">Mapbox</a>',\n",
      "id: 'mapbox.streets'\n",
      "}).addTo(map);\n",
      "</script>\n",
      "</body>"
     ],
     "language": "python",
     "metadata": {},
     "outputs": [
      {
       "html": [
        "\n",
        "<link rel=\"stylesheet\" href=\"http://cdn.leafletjs.com/leaflet-0.7.5/leaflet.css\" />\n",
        "<script src=\"http://cdn.leafletjs.com/leaflet-0.7.5/leaflet.js\"></script>\n",
        "\n",
        "<body>\n",
        "<div id=\"map\" style=\"width: 600px; height: 400px\"></div>\n",
        "\n",
        "<script>\n",
        "\n",
        "var map = L.map('map').setView([5.759799699999999, -0.2197507], 13);\n",
        "L.tileLayer('https://api.tiles.mapbox.com/v4/{id}/{z}/{x}/{y}.png?access_token=pk.eyJ1IjoibWFwYm94IiwiYSI6IjZjNmRjNzk3ZmE2MTcwOTEwMGY0MzU3YjUzOWFmNWZhIn0.Y8bhBaUMqFiPrDRW9hieoQ', {\n",
        "maxZoom: 18,\n",
        "attribution: 'Map data &copy; <a href=\"http://openstreetmap.org\">OpenStreetMap</a> contributors, ' +\n",
        "'<a href=\"http://creativecommons.org/licenses/by-sa/2.0/\">CC-BY-SA</a>, ' +\n",
        "'Imagery \u00a9 <a href=\"http://mapbox.com\">Mapbox</a>',\n",
        "id: 'mapbox.streets'\n",
        "}).addTo(map);\n",
        "</script>\n",
        "</body>"
       ],
       "metadata": {},
       "output_type": "display_data",
       "text": [
        "<IPython.core.display.HTML at 0x47296d8>"
       ]
      }
     ],
     "prompt_number": 22
    },
    {
     "cell_type": "code",
     "collapsed": false,
     "input": [
      "import folium\n",
      "map_osm = folium.Map(location=[5.759799699999999, -0.2197507])\n",
      "map_osm.create_map(path='osm.html')"
     ],
     "language": "python",
     "metadata": {},
     "outputs": [],
     "prompt_number": 23
    },
    {
     "cell_type": "code",
     "collapsed": false,
     "input": [
      "map_osm.simple_marker([5.550, 0.2000], popup='Accra')\n",
      "map_osm.click_for_marker(popup=\"accra\")\n",
      "map_osm.create_map(path='osm.html')"
     ],
     "language": "python",
     "metadata": {},
     "outputs": [],
     "prompt_number": 28
    },
    {
     "cell_type": "code",
     "collapsed": false,
     "input": [],
     "language": "python",
     "metadata": {},
     "outputs": []
    }
   ],
   "metadata": {}
  }
 ]
}